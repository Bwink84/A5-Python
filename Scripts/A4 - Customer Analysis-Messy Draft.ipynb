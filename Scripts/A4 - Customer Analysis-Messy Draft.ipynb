{
 "cells": [
  {
   "cell_type": "markdown",
   "id": "464172fa",
   "metadata": {},
   "source": [
    "# Contents"
   ]
  },
  {
   "cell_type": "markdown",
   "id": "595b6feb",
   "metadata": {},
   "source": [
    "## 1) Import Libraries\n",
    "## 2) Import Data\n",
    "## 3) Creating Regions\n",
    "## 4) Loyalty by Region\n",
    "## 5) Spending\n",
    "## 5.1) Customer Density by Region\n",
    "## 6) Department Profile\n",
    "## 7) Income\n",
    "## 8) Marital Loyalty\n",
    "## 9) Dependants Loyalty\n",
    "## 10) Loyalty by Age Group\n",
    "## 11) Product Price Range\n",
    "## 12) Customer Demographics"
   ]
  },
  {
   "cell_type": "markdown",
   "id": "9acaa599",
   "metadata": {},
   "source": [
    "# 1) Import Libraries"
   ]
  },
  {
   "cell_type": "code",
   "execution_count": null,
   "id": "6ff75311",
   "metadata": {},
   "outputs": [],
   "source": []
  },
  {
   "cell_type": "code",
   "execution_count": 23,
   "id": "7806eed8",
   "metadata": {},
   "outputs": [],
   "source": [
    "import os\n",
    "import numpy as np\n",
    "import pandas as pd\n",
    "import matplotlib.pyplot as plt\n",
    "import seaborn as sns\n",
    "import scipy"
   ]
  },
  {
   "cell_type": "markdown",
   "id": "4d28c84d",
   "metadata": {},
   "source": [
    "# 2) Import Data"
   ]
  },
  {
   "cell_type": "code",
   "execution_count": 2,
   "id": "d2094e02",
   "metadata": {},
   "outputs": [],
   "source": [
    "path = r'C:\\Users\\bwink\\Downloads\\Achievement 4'"
   ]
  },
  {
   "cell_type": "code",
   "execution_count": 3,
   "id": "ba149b21",
   "metadata": {},
   "outputs": [],
   "source": [
    "df = pd.read_pickle(os.path.join(path, 'Data', 'Prepared Data', 'ords_prods_cust_merged.pkl'))"
   ]
  },
  {
   "cell_type": "code",
   "execution_count": 31,
   "id": "42d5b42e",
   "metadata": {},
   "outputs": [],
   "source": [
    "departments = pd.read_csv(os.path.join(path, 'Data', 'Prepared Data', 'departments_wrangled.csv'))"
   ]
  },
  {
   "cell_type": "code",
   "execution_count": 4,
   "id": "6bc68f10",
   "metadata": {},
   "outputs": [],
   "source": [
    "#Replace extreme outliers with null values\n",
    "df.loc[df['prices'] >100, 'prices'] = np.nan"
   ]
  },
  {
   "cell_type": "code",
   "execution_count": 5,
   "id": "8b9539a8",
   "metadata": {},
   "outputs": [
    {
     "data": {
      "text/plain": [
       "user_id                                               6965\n",
       "First                                              Brandon\n",
       "Last                                                  Mata\n",
       "Gender                                                Male\n",
       "State                                         North Dakota\n",
       "Age                                                     70\n",
       "date_joined                                       1/1/2017\n",
       "number_of_dependants                                     0\n",
       "marital_status                            divorced/widowed\n",
       "income                                              100091\n",
       "product_id                                            9020\n",
       "product_name              Boneless Skinless Chicken Thighs\n",
       "aisle_id                                                35\n",
       "department_id                                           12\n",
       "prices                                                25.0\n",
       "order_id                                           2224170\n",
       "eval_set                                             prior\n",
       "order_number                                             3\n",
       "order_day_of_the_week                                    0\n",
       "order_hour_of_day                                       12\n",
       "days_since_prior_order                                 7.0\n",
       "add_to_cart_order                                        4\n",
       "reordered                                                0\n",
       "price_range_loc                         High-range product\n",
       "busiest_day                                    Busiest day\n",
       "busiest_days                                  Busiest days\n",
       "busiest_period_of_day                          Most Orders\n",
       "max_order                                                9\n",
       "loyalty_flag                                  New customer\n",
       "mean_price                                         7.49058\n",
       "spending_flag                                  Low Spender\n",
       "median_days                                            7.0\n",
       "frequency_flag                           Frequent Customer\n",
       "Name: 2447, dtype: object"
      ]
     },
     "execution_count": 5,
     "metadata": {},
     "output_type": "execute_result"
    }
   ],
   "source": [
    "df.loc[df['prices'].idxmax()]"
   ]
  },
  {
   "cell_type": "code",
   "execution_count": 6,
   "id": "acf58161",
   "metadata": {},
   "outputs": [],
   "source": [
    "# Delete PII, problematic info"
   ]
  },
  {
   "cell_type": "code",
   "execution_count": 7,
   "id": "aff66cf0",
   "metadata": {},
   "outputs": [],
   "source": [
    "df = df.drop(columns=['First', 'Last'])"
   ]
  },
  {
   "cell_type": "code",
   "execution_count": 8,
   "id": "4654801f",
   "metadata": {},
   "outputs": [
    {
     "data": {
      "text/html": [
       "<div>\n",
       "<style scoped>\n",
       "    .dataframe tbody tr th:only-of-type {\n",
       "        vertical-align: middle;\n",
       "    }\n",
       "\n",
       "    .dataframe tbody tr th {\n",
       "        vertical-align: top;\n",
       "    }\n",
       "\n",
       "    .dataframe thead th {\n",
       "        text-align: right;\n",
       "    }\n",
       "</style>\n",
       "<table border=\"1\" class=\"dataframe\">\n",
       "  <thead>\n",
       "    <tr style=\"text-align: right;\">\n",
       "      <th></th>\n",
       "      <th>user_id</th>\n",
       "      <th>Gender</th>\n",
       "      <th>State</th>\n",
       "      <th>Age</th>\n",
       "      <th>date_joined</th>\n",
       "      <th>number_of_dependants</th>\n",
       "      <th>marital_status</th>\n",
       "      <th>income</th>\n",
       "      <th>product_id</th>\n",
       "      <th>product_name</th>\n",
       "      <th>...</th>\n",
       "      <th>price_range_loc</th>\n",
       "      <th>busiest_day</th>\n",
       "      <th>busiest_days</th>\n",
       "      <th>busiest_period_of_day</th>\n",
       "      <th>max_order</th>\n",
       "      <th>loyalty_flag</th>\n",
       "      <th>mean_price</th>\n",
       "      <th>spending_flag</th>\n",
       "      <th>median_days</th>\n",
       "      <th>frequency_flag</th>\n",
       "    </tr>\n",
       "  </thead>\n",
       "  <tbody>\n",
       "    <tr>\n",
       "      <th>0</th>\n",
       "      <td>26711</td>\n",
       "      <td>Female</td>\n",
       "      <td>Missouri</td>\n",
       "      <td>48</td>\n",
       "      <td>1/1/2017</td>\n",
       "      <td>3</td>\n",
       "      <td>married</td>\n",
       "      <td>165665</td>\n",
       "      <td>196</td>\n",
       "      <td>Soda</td>\n",
       "      <td>...</td>\n",
       "      <td>Mid-range product</td>\n",
       "      <td>Regularly busy</td>\n",
       "      <td>Busiest days</td>\n",
       "      <td>Most Orders</td>\n",
       "      <td>8</td>\n",
       "      <td>New customer</td>\n",
       "      <td>7.988889</td>\n",
       "      <td>Low Spender</td>\n",
       "      <td>19.0</td>\n",
       "      <td>Regular customer</td>\n",
       "    </tr>\n",
       "    <tr>\n",
       "      <th>1</th>\n",
       "      <td>26711</td>\n",
       "      <td>Female</td>\n",
       "      <td>Missouri</td>\n",
       "      <td>48</td>\n",
       "      <td>1/1/2017</td>\n",
       "      <td>3</td>\n",
       "      <td>married</td>\n",
       "      <td>165665</td>\n",
       "      <td>196</td>\n",
       "      <td>Soda</td>\n",
       "      <td>...</td>\n",
       "      <td>Mid-range product</td>\n",
       "      <td>Regularly busy</td>\n",
       "      <td>Regularly busy</td>\n",
       "      <td>Most Orders</td>\n",
       "      <td>8</td>\n",
       "      <td>New customer</td>\n",
       "      <td>7.988889</td>\n",
       "      <td>Low Spender</td>\n",
       "      <td>19.0</td>\n",
       "      <td>Regular customer</td>\n",
       "    </tr>\n",
       "    <tr>\n",
       "      <th>2</th>\n",
       "      <td>26711</td>\n",
       "      <td>Female</td>\n",
       "      <td>Missouri</td>\n",
       "      <td>48</td>\n",
       "      <td>1/1/2017</td>\n",
       "      <td>3</td>\n",
       "      <td>married</td>\n",
       "      <td>165665</td>\n",
       "      <td>196</td>\n",
       "      <td>Soda</td>\n",
       "      <td>...</td>\n",
       "      <td>Mid-range product</td>\n",
       "      <td>Regularly busy</td>\n",
       "      <td>Busiest days</td>\n",
       "      <td>Most Orders</td>\n",
       "      <td>8</td>\n",
       "      <td>New customer</td>\n",
       "      <td>7.988889</td>\n",
       "      <td>Low Spender</td>\n",
       "      <td>19.0</td>\n",
       "      <td>Regular customer</td>\n",
       "    </tr>\n",
       "    <tr>\n",
       "      <th>3</th>\n",
       "      <td>26711</td>\n",
       "      <td>Female</td>\n",
       "      <td>Missouri</td>\n",
       "      <td>48</td>\n",
       "      <td>1/1/2017</td>\n",
       "      <td>3</td>\n",
       "      <td>married</td>\n",
       "      <td>165665</td>\n",
       "      <td>6184</td>\n",
       "      <td>Clementines</td>\n",
       "      <td>...</td>\n",
       "      <td>Low-range product</td>\n",
       "      <td>Regularly busy</td>\n",
       "      <td>Regularly busy</td>\n",
       "      <td>Most Orders</td>\n",
       "      <td>8</td>\n",
       "      <td>New customer</td>\n",
       "      <td>7.988889</td>\n",
       "      <td>Low Spender</td>\n",
       "      <td>19.0</td>\n",
       "      <td>Regular customer</td>\n",
       "    </tr>\n",
       "    <tr>\n",
       "      <th>4</th>\n",
       "      <td>26711</td>\n",
       "      <td>Female</td>\n",
       "      <td>Missouri</td>\n",
       "      <td>48</td>\n",
       "      <td>1/1/2017</td>\n",
       "      <td>3</td>\n",
       "      <td>married</td>\n",
       "      <td>165665</td>\n",
       "      <td>6184</td>\n",
       "      <td>Clementines</td>\n",
       "      <td>...</td>\n",
       "      <td>Low-range product</td>\n",
       "      <td>Regularly busy</td>\n",
       "      <td>Least busy days</td>\n",
       "      <td>Most Orders</td>\n",
       "      <td>8</td>\n",
       "      <td>New customer</td>\n",
       "      <td>7.988889</td>\n",
       "      <td>Low Spender</td>\n",
       "      <td>19.0</td>\n",
       "      <td>Regular customer</td>\n",
       "    </tr>\n",
       "  </tbody>\n",
       "</table>\n",
       "<p>5 rows × 31 columns</p>\n",
       "</div>"
      ],
      "text/plain": [
       "   user_id  Gender     State  Age date_joined  number_of_dependants  \\\n",
       "0    26711  Female  Missouri   48    1/1/2017                     3   \n",
       "1    26711  Female  Missouri   48    1/1/2017                     3   \n",
       "2    26711  Female  Missouri   48    1/1/2017                     3   \n",
       "3    26711  Female  Missouri   48    1/1/2017                     3   \n",
       "4    26711  Female  Missouri   48    1/1/2017                     3   \n",
       "\n",
       "  marital_status  income  product_id product_name  ...    price_range_loc  \\\n",
       "0        married  165665         196         Soda  ...  Mid-range product   \n",
       "1        married  165665         196         Soda  ...  Mid-range product   \n",
       "2        married  165665         196         Soda  ...  Mid-range product   \n",
       "3        married  165665        6184  Clementines  ...  Low-range product   \n",
       "4        married  165665        6184  Clementines  ...  Low-range product   \n",
       "\n",
       "      busiest_day     busiest_days  busiest_period_of_day max_order  \\\n",
       "0  Regularly busy     Busiest days            Most Orders         8   \n",
       "1  Regularly busy   Regularly busy            Most Orders         8   \n",
       "2  Regularly busy     Busiest days            Most Orders         8   \n",
       "3  Regularly busy   Regularly busy            Most Orders         8   \n",
       "4  Regularly busy  Least busy days            Most Orders         8   \n",
       "\n",
       "   loyalty_flag  mean_price  spending_flag  median_days    frequency_flag  \n",
       "0  New customer    7.988889    Low Spender         19.0  Regular customer  \n",
       "1  New customer    7.988889    Low Spender         19.0  Regular customer  \n",
       "2  New customer    7.988889    Low Spender         19.0  Regular customer  \n",
       "3  New customer    7.988889    Low Spender         19.0  Regular customer  \n",
       "4  New customer    7.988889    Low Spender         19.0  Regular customer  \n",
       "\n",
       "[5 rows x 31 columns]"
      ]
     },
     "execution_count": 8,
     "metadata": {},
     "output_type": "execute_result"
    }
   ],
   "source": [
    "df.head()"
   ]
  },
  {
   "cell_type": "markdown",
   "id": "6d302b28",
   "metadata": {},
   "source": [
    "## Exclusion "
   ]
  },
  {
   "cell_type": "code",
   "execution_count": 141,
   "id": "7e600145",
   "metadata": {},
   "outputs": [
    {
     "data": {
      "text/plain": [
       "0    8\n",
       "1    8\n",
       "2    8\n",
       "3    8\n",
       "4    8\n",
       "Name: max_order, dtype: int64"
      ]
     },
     "execution_count": 141,
     "metadata": {},
     "output_type": "execute_result"
    }
   ],
   "source": [
    "df['max_order'].head()"
   ]
  },
  {
   "cell_type": "code",
   "execution_count": 142,
   "id": "54558402",
   "metadata": {},
   "outputs": [],
   "source": [
    "#subset for orders\n",
    "df_max = df[df['max_order']>5]"
   ]
  },
  {
   "cell_type": "code",
   "execution_count": 143,
   "id": "d08947e0",
   "metadata": {},
   "outputs": [
    {
     "data": {
      "text/plain": [
       "(28521639, 37)"
      ]
     },
     "execution_count": 143,
     "metadata": {},
     "output_type": "execute_result"
    }
   ],
   "source": [
    "df_max.shape"
   ]
  },
  {
   "cell_type": "code",
   "execution_count": 144,
   "id": "15694361",
   "metadata": {},
   "outputs": [
    {
     "data": {
      "text/plain": [
       "(30629741, 37)"
      ]
     },
     "execution_count": 144,
     "metadata": {},
     "output_type": "execute_result"
    }
   ],
   "source": [
    "df.shape"
   ]
  },
  {
   "cell_type": "code",
   "execution_count": 145,
   "id": "f1d381fb",
   "metadata": {},
   "outputs": [],
   "source": [
    "#export\n",
    "df_max.to_pickle(os.path.join(path, 'Data','Prepared Data', 'df_orders_over_5.pkl'))"
   ]
  },
  {
   "cell_type": "markdown",
   "id": "ef5d11a7",
   "metadata": {},
   "source": [
    "# 3) Creating Regions"
   ]
  },
  {
   "cell_type": "code",
   "execution_count": 9,
   "id": "5a882158",
   "metadata": {},
   "outputs": [],
   "source": [
    "#Create Regions from States info\n",
    "result = []\n",
    "\n",
    "for value in df[\"State\"]:\n",
    "  if value == 'Maine':\n",
    "    result.append(\"Northeast\")\n",
    "  elif value == 'New Hampshire':\n",
    "    result.append(\"Northeast\")\n",
    "  elif value == 'Vermont':\n",
    "    result.append(\"Northeast\")\n",
    "  elif value == 'Massachusetts':\n",
    "    result.append(\"Northeast\")\n",
    "  elif value == 'Rhode Island':\n",
    "    result.append(\"Northeast\")\n",
    "  elif value == 'Connecticut':\n",
    "    result.append(\"Northeast\")\n",
    "  elif value == 'New York':\n",
    "    result.append(\"Northeast\")\n",
    "  elif value == 'Pennsylvania':\n",
    "    result.append(\"Northeast\")\n",
    "  elif value == 'New Jersey':\n",
    "    result.append(\"Northeast\")  \n",
    "    \n",
    "  elif value == 'Wisconsin':\n",
    "    result.append(\"Midwest\")\n",
    "  elif value == 'Michigan':\n",
    "    result.append(\"Midwest\")\n",
    "  elif value == 'Illinois':\n",
    "    result.append(\"Midwest\")\n",
    "  elif value == 'Indiana':\n",
    "    result.append(\"Midwest\")\n",
    "  elif value == 'Ohio':\n",
    "    result.append(\"Midwest\")\n",
    "  elif value == 'North Dakota':\n",
    "    result.append(\"Midwest\")\n",
    "  elif value == 'South Dakota':\n",
    "    result.append(\"Midwest\")\n",
    "  elif value == 'Nebraska':\n",
    "    result.append(\"Midwest\")\n",
    "  elif value == 'Kansas':\n",
    "    result.append(\"Midwest\")\n",
    "  elif value == 'Minnesota':\n",
    "    result.append(\"Midwest\")\n",
    "  elif value == 'Iowa':\n",
    "    result.append(\"Midwest\")\n",
    "  elif value == 'Missouri':\n",
    "    result.append(\"Midwest\")  \n",
    "    \n",
    "  elif value == 'Idaho':\n",
    "    result.append(\"West\")\n",
    "  elif value == 'Montana':\n",
    "    result.append(\"West\")\n",
    "  elif value == 'Wyoming':\n",
    "    result.append(\"West\")\n",
    "  elif value == 'Nevada':\n",
    "    result.append(\"West\")\n",
    "  elif value == 'Utah':\n",
    "    result.append(\"West\")\n",
    "  elif value == 'Colorado':\n",
    "    result.append(\"West\")\n",
    "  elif value == 'Arizona':\n",
    "    result.append(\"West\")\n",
    "  elif value == 'New Mexico':\n",
    "    result.append(\"West\")\n",
    "  elif value == 'Alaska':\n",
    "    result.append(\"West\")\n",
    "  elif value == 'Washington':\n",
    "    result.append(\"West\")\n",
    "  elif value == 'Oregon':\n",
    "    result.append(\"West\")\n",
    "  elif value == 'California':\n",
    "    result.append(\"West\")\n",
    "  elif value == 'Hawaii':\n",
    "    result.append(\"West\")  \n",
    "    \n",
    "  else:\n",
    "    result.append(\"South\")"
   ]
  },
  {
   "cell_type": "code",
   "execution_count": 10,
   "id": "5a72cbb3",
   "metadata": {},
   "outputs": [
    {
     "data": {
      "text/plain": [
       "['Midwest',\n",
       " 'Midwest',\n",
       " 'Midwest',\n",
       " 'Midwest',\n",
       " 'Midwest',\n",
       " 'Midwest',\n",
       " 'Midwest',\n",
       " 'Midwest',\n",
       " 'Midwest',\n",
       " 'Midwest',\n",
       " 'Midwest',\n",
       " 'Midwest',\n",
       " 'Midwest',\n",
       " 'Midwest',\n",
       " 'Midwest',\n",
       " 'Midwest',\n",
       " 'Midwest',\n",
       " 'Midwest',\n",
       " 'West',\n",
       " 'West',\n",
       " 'West',\n",
       " 'West',\n",
       " 'West',\n",
       " 'West',\n",
       " 'West',\n",
       " 'West',\n",
       " 'West',\n",
       " 'West',\n",
       " 'West',\n",
       " 'West',\n",
       " 'West',\n",
       " 'West',\n",
       " 'West',\n",
       " 'West',\n",
       " 'West',\n",
       " 'West',\n",
       " 'West',\n",
       " 'West',\n",
       " 'West',\n",
       " 'West',\n",
       " 'West',\n",
       " 'West',\n",
       " 'West',\n",
       " 'West',\n",
       " 'West',\n",
       " 'West',\n",
       " 'West',\n",
       " 'West',\n",
       " 'West',\n",
       " 'West',\n",
       " 'West',\n",
       " 'West',\n",
       " 'West',\n",
       " 'West',\n",
       " 'West',\n",
       " 'West',\n",
       " 'West',\n",
       " 'West',\n",
       " 'West',\n",
       " 'West',\n",
       " 'West',\n",
       " 'West',\n",
       " 'West',\n",
       " 'West',\n",
       " 'West',\n",
       " 'West',\n",
       " 'West',\n",
       " 'West',\n",
       " 'West',\n",
       " 'West',\n",
       " 'West',\n",
       " 'West',\n",
       " 'West',\n",
       " 'West',\n",
       " 'West',\n",
       " 'West',\n",
       " 'West',\n",
       " 'West',\n",
       " 'West',\n",
       " 'West',\n",
       " 'West',\n",
       " 'West',\n",
       " 'West',\n",
       " 'West',\n",
       " 'West',\n",
       " 'West',\n",
       " 'West',\n",
       " 'West',\n",
       " 'West',\n",
       " 'West',\n",
       " 'West',\n",
       " 'West',\n",
       " 'West',\n",
       " 'West',\n",
       " 'West',\n",
       " 'West',\n",
       " 'West',\n",
       " 'West',\n",
       " 'West',\n",
       " 'West',\n",
       " 'West',\n",
       " 'West',\n",
       " 'West',\n",
       " 'West',\n",
       " 'West',\n",
       " 'West',\n",
       " 'West',\n",
       " 'West',\n",
       " 'West',\n",
       " 'West',\n",
       " 'West',\n",
       " 'West',\n",
       " 'West',\n",
       " 'West',\n",
       " 'West',\n",
       " 'West',\n",
       " 'West',\n",
       " 'West',\n",
       " 'West',\n",
       " 'West',\n",
       " 'West',\n",
       " 'West',\n",
       " 'West',\n",
       " 'West',\n",
       " 'West',\n",
       " 'West',\n",
       " 'West',\n",
       " 'West',\n",
       " 'West',\n",
       " 'West',\n",
       " 'West',\n",
       " 'West',\n",
       " 'West',\n",
       " 'West',\n",
       " 'West',\n",
       " 'West',\n",
       " 'West',\n",
       " 'West',\n",
       " 'West',\n",
       " 'West',\n",
       " 'West',\n",
       " 'West',\n",
       " 'West',\n",
       " 'West',\n",
       " 'West',\n",
       " 'West',\n",
       " 'West',\n",
       " 'West',\n",
       " 'West',\n",
       " 'West',\n",
       " 'West',\n",
       " 'West',\n",
       " 'West',\n",
       " 'West',\n",
       " 'West',\n",
       " 'West',\n",
       " 'West',\n",
       " 'West',\n",
       " 'West',\n",
       " 'West',\n",
       " 'West',\n",
       " 'West',\n",
       " 'West',\n",
       " 'West',\n",
       " 'West',\n",
       " 'West',\n",
       " 'West',\n",
       " 'West',\n",
       " 'West',\n",
       " 'West',\n",
       " 'West',\n",
       " 'West',\n",
       " 'West',\n",
       " 'West',\n",
       " 'West',\n",
       " 'West',\n",
       " 'West',\n",
       " 'West',\n",
       " 'West',\n",
       " 'West',\n",
       " 'West',\n",
       " 'West',\n",
       " 'West',\n",
       " 'West',\n",
       " 'West',\n",
       " 'West',\n",
       " 'West',\n",
       " 'West',\n",
       " 'West',\n",
       " 'West',\n",
       " 'West',\n",
       " 'West',\n",
       " 'West',\n",
       " 'West',\n",
       " 'West',\n",
       " 'Midwest',\n",
       " 'Midwest',\n",
       " 'Midwest',\n",
       " 'Midwest',\n",
       " 'Midwest',\n",
       " 'Midwest',\n",
       " 'Midwest',\n",
       " 'Midwest',\n",
       " 'Midwest',\n",
       " 'Midwest',\n",
       " 'Midwest',\n",
       " 'Midwest',\n",
       " 'Midwest',\n",
       " 'Midwest',\n",
       " 'Midwest',\n",
       " 'Midwest',\n",
       " 'Midwest',\n",
       " 'Midwest',\n",
       " 'Midwest',\n",
       " 'Midwest',\n",
       " 'Midwest',\n",
       " 'Midwest',\n",
       " 'Midwest',\n",
       " 'Midwest',\n",
       " 'Midwest',\n",
       " 'Midwest',\n",
       " 'Midwest',\n",
       " 'Midwest',\n",
       " 'Midwest',\n",
       " 'Midwest',\n",
       " 'Midwest',\n",
       " 'Midwest',\n",
       " 'Midwest',\n",
       " 'Midwest',\n",
       " 'Midwest',\n",
       " 'Midwest',\n",
       " 'Midwest',\n",
       " 'Midwest',\n",
       " 'Midwest',\n",
       " 'Midwest',\n",
       " 'Midwest',\n",
       " 'Midwest',\n",
       " 'Midwest',\n",
       " 'Midwest',\n",
       " 'Midwest',\n",
       " 'Midwest',\n",
       " 'Midwest',\n",
       " 'Midwest',\n",
       " 'Midwest',\n",
       " 'Midwest',\n",
       " 'Midwest',\n",
       " 'Midwest',\n",
       " 'Midwest',\n",
       " 'Midwest',\n",
       " 'Midwest',\n",
       " 'Midwest',\n",
       " 'Midwest',\n",
       " 'Midwest',\n",
       " 'Midwest',\n",
       " 'Midwest',\n",
       " 'Midwest',\n",
       " 'Midwest',\n",
       " 'Midwest',\n",
       " 'Midwest',\n",
       " 'Midwest',\n",
       " 'Midwest',\n",
       " 'Midwest',\n",
       " 'Midwest',\n",
       " 'Midwest',\n",
       " 'Midwest',\n",
       " 'Midwest',\n",
       " 'Midwest',\n",
       " 'Midwest',\n",
       " 'Midwest',\n",
       " 'Midwest',\n",
       " 'Midwest',\n",
       " 'Midwest',\n",
       " 'Midwest',\n",
       " 'Midwest',\n",
       " 'Midwest',\n",
       " 'Midwest',\n",
       " 'Midwest',\n",
       " 'Midwest',\n",
       " 'Midwest',\n",
       " 'Midwest',\n",
       " 'Midwest',\n",
       " 'Midwest',\n",
       " 'Midwest',\n",
       " 'Midwest',\n",
       " 'Midwest',\n",
       " 'Midwest',\n",
       " 'Midwest',\n",
       " 'Midwest',\n",
       " 'Midwest',\n",
       " 'Midwest',\n",
       " 'Midwest',\n",
       " 'Midwest',\n",
       " 'Midwest',\n",
       " 'Midwest',\n",
       " 'Midwest',\n",
       " 'Midwest',\n",
       " 'Midwest',\n",
       " 'Midwest',\n",
       " 'Midwest',\n",
       " 'Midwest',\n",
       " 'Midwest',\n",
       " 'Midwest',\n",
       " 'Midwest',\n",
       " 'Midwest',\n",
       " 'Midwest',\n",
       " 'Midwest',\n",
       " 'Midwest',\n",
       " 'Midwest',\n",
       " 'Midwest',\n",
       " 'Midwest',\n",
       " 'Midwest',\n",
       " 'Midwest',\n",
       " 'Midwest',\n",
       " 'Midwest',\n",
       " 'Midwest',\n",
       " 'Midwest',\n",
       " 'Midwest',\n",
       " 'Midwest',\n",
       " 'Midwest',\n",
       " 'Midwest',\n",
       " 'Midwest',\n",
       " 'Midwest',\n",
       " 'Midwest',\n",
       " 'Midwest',\n",
       " 'Midwest',\n",
       " 'Midwest',\n",
       " 'Midwest',\n",
       " 'Midwest',\n",
       " 'Midwest',\n",
       " 'Midwest',\n",
       " 'Midwest',\n",
       " 'Midwest',\n",
       " 'Midwest',\n",
       " 'Midwest',\n",
       " 'Midwest',\n",
       " 'Midwest',\n",
       " 'Midwest',\n",
       " 'Midwest',\n",
       " 'Midwest',\n",
       " 'Midwest',\n",
       " 'Midwest',\n",
       " 'Midwest',\n",
       " 'Midwest',\n",
       " 'Midwest',\n",
       " 'Midwest',\n",
       " 'Midwest',\n",
       " 'Midwest',\n",
       " 'Midwest',\n",
       " 'Midwest',\n",
       " 'Midwest',\n",
       " 'Midwest',\n",
       " 'South',\n",
       " 'South',\n",
       " 'South',\n",
       " 'South',\n",
       " 'South',\n",
       " 'South',\n",
       " 'South',\n",
       " 'South',\n",
       " 'South',\n",
       " 'South',\n",
       " 'South',\n",
       " 'South',\n",
       " 'South',\n",
       " 'South',\n",
       " 'South',\n",
       " 'South',\n",
       " 'South',\n",
       " 'South',\n",
       " 'South',\n",
       " 'South',\n",
       " 'South',\n",
       " 'South',\n",
       " 'South',\n",
       " 'South',\n",
       " 'South',\n",
       " 'South',\n",
       " 'South',\n",
       " 'South',\n",
       " 'South',\n",
       " 'South',\n",
       " 'South',\n",
       " 'South',\n",
       " 'South',\n",
       " 'South',\n",
       " 'South',\n",
       " 'South',\n",
       " 'South',\n",
       " 'South',\n",
       " 'South',\n",
       " 'South',\n",
       " 'South',\n",
       " 'South',\n",
       " 'South',\n",
       " 'South',\n",
       " 'South',\n",
       " 'South',\n",
       " 'South',\n",
       " 'South',\n",
       " 'South',\n",
       " 'South',\n",
       " 'South',\n",
       " 'South',\n",
       " 'South',\n",
       " 'South',\n",
       " 'South',\n",
       " 'South',\n",
       " 'South',\n",
       " 'South',\n",
       " 'South',\n",
       " 'South',\n",
       " 'South',\n",
       " 'South',\n",
       " 'South',\n",
       " 'South',\n",
       " 'South',\n",
       " 'South',\n",
       " 'South',\n",
       " 'South',\n",
       " 'South',\n",
       " 'South',\n",
       " 'South',\n",
       " 'South',\n",
       " 'South',\n",
       " 'South',\n",
       " 'South',\n",
       " 'South',\n",
       " 'South',\n",
       " 'South',\n",
       " 'South',\n",
       " 'South',\n",
       " 'South',\n",
       " 'South',\n",
       " 'South',\n",
       " 'South',\n",
       " 'South',\n",
       " 'South',\n",
       " 'South',\n",
       " 'South',\n",
       " 'South',\n",
       " 'South',\n",
       " 'South',\n",
       " 'South',\n",
       " 'South',\n",
       " 'South',\n",
       " 'South',\n",
       " 'South',\n",
       " 'South',\n",
       " 'South',\n",
       " 'South',\n",
       " 'South',\n",
       " 'South',\n",
       " 'South',\n",
       " 'South',\n",
       " 'South',\n",
       " 'South',\n",
       " 'South',\n",
       " 'South',\n",
       " 'South',\n",
       " 'South',\n",
       " 'South',\n",
       " 'South',\n",
       " 'South',\n",
       " 'South',\n",
       " 'South',\n",
       " 'South',\n",
       " 'South',\n",
       " 'South',\n",
       " 'South',\n",
       " 'South',\n",
       " 'South',\n",
       " 'South',\n",
       " 'South',\n",
       " 'South',\n",
       " 'South',\n",
       " 'South',\n",
       " 'South',\n",
       " 'South',\n",
       " 'South',\n",
       " 'South',\n",
       " 'South',\n",
       " 'South',\n",
       " 'South',\n",
       " 'South',\n",
       " 'South',\n",
       " 'South',\n",
       " 'South',\n",
       " 'South',\n",
       " 'South',\n",
       " 'South',\n",
       " 'South',\n",
       " 'South',\n",
       " 'South',\n",
       " 'South',\n",
       " 'South',\n",
       " 'South',\n",
       " 'South',\n",
       " 'South',\n",
       " 'South',\n",
       " 'South',\n",
       " 'South',\n",
       " 'South',\n",
       " 'South',\n",
       " 'South',\n",
       " 'South',\n",
       " 'South',\n",
       " 'South',\n",
       " 'South',\n",
       " 'South',\n",
       " 'South',\n",
       " 'South',\n",
       " 'South',\n",
       " 'South',\n",
       " 'South',\n",
       " 'South',\n",
       " 'South',\n",
       " 'South',\n",
       " 'South',\n",
       " 'South',\n",
       " 'South',\n",
       " 'South',\n",
       " 'South',\n",
       " 'South',\n",
       " 'South',\n",
       " 'South',\n",
       " 'South',\n",
       " 'South',\n",
       " 'South',\n",
       " 'South',\n",
       " 'South',\n",
       " 'South',\n",
       " 'South',\n",
       " 'South',\n",
       " 'South',\n",
       " 'South',\n",
       " 'South',\n",
       " 'South',\n",
       " 'South',\n",
       " 'South',\n",
       " 'South',\n",
       " 'South',\n",
       " 'South',\n",
       " 'South',\n",
       " 'South',\n",
       " 'South',\n",
       " 'South',\n",
       " 'South',\n",
       " 'South',\n",
       " 'South',\n",
       " 'South',\n",
       " 'South',\n",
       " 'South',\n",
       " 'West',\n",
       " 'West',\n",
       " 'West',\n",
       " 'West',\n",
       " 'West',\n",
       " 'West',\n",
       " 'West',\n",
       " 'West',\n",
       " 'West',\n",
       " 'West',\n",
       " 'West',\n",
       " 'West',\n",
       " 'West',\n",
       " 'West',\n",
       " 'West',\n",
       " 'West',\n",
       " 'West',\n",
       " 'West',\n",
       " 'West',\n",
       " 'West',\n",
       " 'West',\n",
       " 'West',\n",
       " 'West',\n",
       " 'West',\n",
       " 'West',\n",
       " 'West',\n",
       " 'West',\n",
       " 'West',\n",
       " 'West',\n",
       " 'West',\n",
       " 'West',\n",
       " 'West',\n",
       " 'West',\n",
       " 'West',\n",
       " 'West',\n",
       " 'West',\n",
       " 'West',\n",
       " 'West',\n",
       " 'West',\n",
       " 'West',\n",
       " 'West',\n",
       " 'West',\n",
       " 'West',\n",
       " 'West',\n",
       " 'West',\n",
       " 'West',\n",
       " 'West',\n",
       " 'West',\n",
       " 'West',\n",
       " 'West',\n",
       " 'West',\n",
       " 'West',\n",
       " 'West',\n",
       " 'West',\n",
       " 'West',\n",
       " 'West',\n",
       " 'West',\n",
       " 'West',\n",
       " 'West',\n",
       " 'West',\n",
       " 'West',\n",
       " 'West',\n",
       " 'West',\n",
       " 'West',\n",
       " 'West',\n",
       " 'West',\n",
       " 'West',\n",
       " 'West',\n",
       " 'West',\n",
       " 'West',\n",
       " 'West',\n",
       " 'West',\n",
       " 'West',\n",
       " 'West',\n",
       " 'West',\n",
       " 'West',\n",
       " 'West',\n",
       " 'West',\n",
       " 'West',\n",
       " 'West',\n",
       " 'West',\n",
       " 'West',\n",
       " 'West',\n",
       " 'West',\n",
       " 'West',\n",
       " 'West',\n",
       " 'West',\n",
       " 'West',\n",
       " 'West',\n",
       " 'West',\n",
       " 'West',\n",
       " 'West',\n",
       " 'West',\n",
       " 'West',\n",
       " 'West',\n",
       " 'West',\n",
       " 'West',\n",
       " 'West',\n",
       " 'West',\n",
       " 'West',\n",
       " 'West',\n",
       " 'West',\n",
       " 'West',\n",
       " 'West',\n",
       " 'West',\n",
       " 'West',\n",
       " 'West',\n",
       " 'West',\n",
       " 'West',\n",
       " 'West',\n",
       " 'West',\n",
       " 'West',\n",
       " 'West',\n",
       " 'West',\n",
       " 'West',\n",
       " 'West',\n",
       " 'West',\n",
       " 'West',\n",
       " 'West',\n",
       " 'West',\n",
       " 'West',\n",
       " 'West',\n",
       " 'West',\n",
       " 'West',\n",
       " 'West',\n",
       " 'West',\n",
       " 'West',\n",
       " 'West',\n",
       " 'West',\n",
       " 'West',\n",
       " 'West',\n",
       " 'West',\n",
       " 'West',\n",
       " 'West',\n",
       " 'West',\n",
       " 'West',\n",
       " 'West',\n",
       " 'West',\n",
       " 'West',\n",
       " 'West',\n",
       " 'West',\n",
       " 'West',\n",
       " 'West',\n",
       " 'West',\n",
       " 'West',\n",
       " 'West',\n",
       " 'West',\n",
       " 'West',\n",
       " 'West',\n",
       " 'West',\n",
       " 'West',\n",
       " 'West',\n",
       " 'West',\n",
       " 'West',\n",
       " 'West',\n",
       " 'West',\n",
       " 'West',\n",
       " 'West',\n",
       " 'West',\n",
       " 'West',\n",
       " 'West',\n",
       " 'West',\n",
       " 'West',\n",
       " 'West',\n",
       " 'West',\n",
       " 'West',\n",
       " 'West',\n",
       " 'West',\n",
       " 'West',\n",
       " 'West',\n",
       " 'West',\n",
       " 'West',\n",
       " 'West',\n",
       " 'West',\n",
       " 'West',\n",
       " 'West',\n",
       " 'West',\n",
       " 'South',\n",
       " 'South',\n",
       " 'South',\n",
       " 'South',\n",
       " 'South',\n",
       " 'South',\n",
       " 'South',\n",
       " 'South',\n",
       " 'South',\n",
       " 'South',\n",
       " 'South',\n",
       " 'South',\n",
       " 'South',\n",
       " 'South',\n",
       " 'South',\n",
       " 'South',\n",
       " 'South',\n",
       " 'South',\n",
       " 'South',\n",
       " 'South',\n",
       " 'South',\n",
       " 'South',\n",
       " 'South',\n",
       " 'South',\n",
       " 'South',\n",
       " 'South',\n",
       " 'South',\n",
       " 'South',\n",
       " 'South',\n",
       " 'South',\n",
       " 'South',\n",
       " 'South',\n",
       " 'South',\n",
       " 'South',\n",
       " 'South',\n",
       " 'South',\n",
       " 'South',\n",
       " 'South',\n",
       " 'South',\n",
       " 'South',\n",
       " 'South',\n",
       " 'South',\n",
       " 'South',\n",
       " 'South',\n",
       " 'South',\n",
       " 'South',\n",
       " 'South',\n",
       " 'South',\n",
       " 'South',\n",
       " 'South',\n",
       " 'South',\n",
       " 'South',\n",
       " 'South',\n",
       " 'South',\n",
       " 'South',\n",
       " 'South',\n",
       " 'South',\n",
       " 'South',\n",
       " 'South',\n",
       " 'South',\n",
       " 'South',\n",
       " 'South',\n",
       " 'South',\n",
       " 'South',\n",
       " 'South',\n",
       " 'South',\n",
       " 'South',\n",
       " 'South',\n",
       " 'South',\n",
       " 'South',\n",
       " 'South',\n",
       " 'South',\n",
       " 'South',\n",
       " 'South',\n",
       " 'South',\n",
       " 'South',\n",
       " 'South',\n",
       " 'South',\n",
       " 'South',\n",
       " 'South',\n",
       " 'South',\n",
       " 'South',\n",
       " 'South',\n",
       " 'South',\n",
       " 'South',\n",
       " 'South',\n",
       " 'South',\n",
       " 'South',\n",
       " 'South',\n",
       " 'South',\n",
       " 'South',\n",
       " 'South',\n",
       " 'South',\n",
       " 'South',\n",
       " 'South',\n",
       " 'South',\n",
       " 'South',\n",
       " 'South',\n",
       " 'South',\n",
       " 'South',\n",
       " 'South',\n",
       " 'South',\n",
       " 'South',\n",
       " 'South',\n",
       " 'South',\n",
       " 'South',\n",
       " 'South',\n",
       " 'South',\n",
       " 'South',\n",
       " 'South',\n",
       " 'South',\n",
       " 'South',\n",
       " 'South',\n",
       " 'South',\n",
       " 'South',\n",
       " 'South',\n",
       " 'South',\n",
       " 'South',\n",
       " 'South',\n",
       " 'South',\n",
       " 'South',\n",
       " 'South',\n",
       " 'South',\n",
       " 'South',\n",
       " 'South',\n",
       " 'South',\n",
       " 'South',\n",
       " 'South',\n",
       " 'South',\n",
       " 'South',\n",
       " 'South',\n",
       " 'South',\n",
       " 'South',\n",
       " 'South',\n",
       " 'South',\n",
       " 'South',\n",
       " 'South',\n",
       " 'South',\n",
       " 'South',\n",
       " 'South',\n",
       " 'South',\n",
       " 'South',\n",
       " 'South',\n",
       " 'South',\n",
       " 'South',\n",
       " 'South',\n",
       " 'South',\n",
       " 'South',\n",
       " 'South',\n",
       " 'South',\n",
       " 'South',\n",
       " 'South',\n",
       " 'South',\n",
       " 'South',\n",
       " 'South',\n",
       " 'South',\n",
       " 'South',\n",
       " 'South',\n",
       " 'South',\n",
       " 'South',\n",
       " 'South',\n",
       " 'South',\n",
       " 'South',\n",
       " 'South',\n",
       " 'South',\n",
       " 'South',\n",
       " 'South',\n",
       " 'South',\n",
       " 'South',\n",
       " 'South',\n",
       " 'South',\n",
       " 'South',\n",
       " 'South',\n",
       " 'South',\n",
       " 'South',\n",
       " 'South',\n",
       " 'South',\n",
       " 'South',\n",
       " 'South',\n",
       " 'South',\n",
       " 'South',\n",
       " 'South',\n",
       " 'South',\n",
       " 'South',\n",
       " 'South',\n",
       " 'South',\n",
       " 'South',\n",
       " 'South',\n",
       " 'South',\n",
       " 'South',\n",
       " 'South',\n",
       " 'South',\n",
       " 'South',\n",
       " 'South',\n",
       " 'South',\n",
       " 'South',\n",
       " 'South',\n",
       " 'South',\n",
       " 'South',\n",
       " 'South',\n",
       " 'South',\n",
       " 'South',\n",
       " 'South',\n",
       " 'South',\n",
       " 'South',\n",
       " 'South',\n",
       " 'South',\n",
       " 'South',\n",
       " 'South',\n",
       " 'South',\n",
       " 'South',\n",
       " 'South',\n",
       " 'South',\n",
       " 'South',\n",
       " 'South',\n",
       " 'South',\n",
       " 'South',\n",
       " 'South',\n",
       " 'South',\n",
       " 'South',\n",
       " 'South',\n",
       " 'South',\n",
       " 'South',\n",
       " 'South',\n",
       " 'South',\n",
       " 'South',\n",
       " 'South',\n",
       " 'South',\n",
       " 'South',\n",
       " 'South',\n",
       " 'South',\n",
       " 'South',\n",
       " 'South',\n",
       " 'South',\n",
       " 'South',\n",
       " 'South',\n",
       " 'South',\n",
       " 'South',\n",
       " 'South',\n",
       " 'South',\n",
       " 'South',\n",
       " 'South',\n",
       " 'South',\n",
       " 'South',\n",
       " 'South',\n",
       " 'South',\n",
       " 'South',\n",
       " 'South',\n",
       " 'South',\n",
       " 'South',\n",
       " 'South',\n",
       " 'South',\n",
       " 'South',\n",
       " 'South',\n",
       " 'South',\n",
       " 'South',\n",
       " 'South',\n",
       " 'South',\n",
       " 'South',\n",
       " 'South',\n",
       " 'South',\n",
       " 'South',\n",
       " 'South',\n",
       " 'South',\n",
       " 'South',\n",
       " 'South',\n",
       " 'South',\n",
       " 'South',\n",
       " 'South',\n",
       " 'South',\n",
       " 'South',\n",
       " ...]"
      ]
     },
     "execution_count": 10,
     "metadata": {},
     "output_type": "execute_result"
    }
   ],
   "source": [
    "result"
   ]
  },
  {
   "cell_type": "code",
   "execution_count": 13,
   "id": "986f19fa",
   "metadata": {},
   "outputs": [],
   "source": [
    "df['Region'] = result"
   ]
  },
  {
   "cell_type": "code",
   "execution_count": 14,
   "id": "f9ed1112",
   "metadata": {},
   "outputs": [
    {
     "data": {
      "text/plain": [
       "South        10198982\n",
       "West          7831810\n",
       "Midwest       7176924\n",
       "Northeast     5422025\n",
       "Name: Region, dtype: int64"
      ]
     },
     "execution_count": 14,
     "metadata": {},
     "output_type": "execute_result"
    }
   ],
   "source": [
    "df['Region'].value_counts(dropna = False)"
   ]
  },
  {
   "cell_type": "markdown",
   "id": "1e2d8c4e",
   "metadata": {},
   "source": [
    "# 4) Loyalty by Region\n"
   ]
  },
  {
   "cell_type": "code",
   "execution_count": 20,
   "id": "73f12b1f",
   "metadata": {},
   "outputs": [],
   "source": [
    "#group Region and loyalty_flag\n",
    "reg_loyalty_counts = df.groupby(['Region','loyalty_flag']).size().unstack(fill_value=0)"
   ]
  },
  {
   "cell_type": "code",
   "execution_count": 24,
   "id": "56ce1da4",
   "metadata": {},
   "outputs": [
    {
     "data": {
      "text/plain": [
       "Text(0.5, 0, '')"
      ]
     },
     "execution_count": 24,
     "metadata": {},
     "output_type": "execute_result"
    },
    {
     "data": {
      "image/png": "[encoded data removed]",
      "text/plain": [
       "<Figure size 640x480 with 1 Axes>"
      ]
     },
     "metadata": {},
     "output_type": "display_data"
    }
   ],
   "source": [
    "# Area chart for Region and loyalty_flag\n",
    "area_reg_loyalty_counts = reg_loyalty_counts.plot.area(stacked=False)\n",
    "plt.title('Loyalty by Region',fontsize=13)\n",
    "plt.xlabel('')"
   ]
  },
  {
   "cell_type": "code",
   "execution_count": 25,
   "id": "9867bfbc",
   "metadata": {},
   "outputs": [],
   "source": [
    "#Save Image\n",
    "area_reg_loyalty_counts.figure.savefig(os.path.join(path, 'Analysis','Visualizations', 'area_reg_loyalty_chart.png'))"
   ]
  },
  {
   "cell_type": "markdown",
   "id": "67921067",
   "metadata": {},
   "source": [
    "# 5) Spending\n"
   ]
  },
  {
   "cell_type": "code",
   "execution_count": 26,
   "id": "e9dc8791",
   "metadata": {},
   "outputs": [],
   "source": [
    "#Group\n",
    "reg_spending_counts = df.groupby(['Region','spending_flag']).size().unstack(fill_value=0)"
   ]
  },
  {
   "cell_type": "code",
   "execution_count": 27,
   "id": "e67f0c52",
   "metadata": {},
   "outputs": [
    {
     "data": {
      "text/plain": [
       "Text(0.5, 0, '')"
      ]
     },
     "execution_count": 27,
     "metadata": {},
     "output_type": "execute_result"
    },
    {
     "data": {
      "image/png": "[encoded data removed]",
      "text/plain": [
       "<Figure size 640x480 with 1 Axes>"
      ]
     },
     "metadata": {},
     "output_type": "display_data"
    }
   ],
   "source": [
    "#bar chart\n",
    "bar_reg_spend_counts = reg_spending_counts.plot.barh(stacked=True)\n",
    "plt.title('Spending by Region',fontsize=13)\n",
    "plt.xlabel('')"
   ]
  },
  {
   "cell_type": "code",
   "execution_count": 28,
   "id": "0c0491ca",
   "metadata": {},
   "outputs": [],
   "source": [
    "bar_reg_spend_counts.figure.savefig(os.path.join(path, 'Analysis','Visualizations', 'bar_reg_spend_chart.png'))"
   ]
  },
  {
   "cell_type": "code",
   "execution_count": 134,
   "id": "cc07872c",
   "metadata": {},
   "outputs": [],
   "source": [
    "# Create group for spending status and marital status\n",
    "marital_spending_counts = df.groupby(['marital_status', 'spending_flag']).size().unstack(fill_value=0)"
   ]
  },
  {
   "cell_type": "code",
   "execution_count": 135,
   "id": "4bebcd4a",
   "metadata": {},
   "outputs": [
    {
     "data": {
      "text/plain": [
       "Text(0.5, 0, '')"
      ]
     },
     "execution_count": 135,
     "metadata": {},
     "output_type": "execute_result"
    },
    {
     "data": {
      "image/png": "[encoded data removed]",
      "text/plain": [
       "<Figure size 640x480 with 1 Axes>"
      ]
     },
     "metadata": {},
     "output_type": "display_data"
    }
   ],
   "source": [
    "bar_marital_spending = marital_spending_counts.plot.bar(stacked=True)\n",
    "plt.title('Spending by Marital Status', fontsize=13)\n",
    "plt.xlabel('')"
   ]
  },
  {
   "cell_type": "code",
   "execution_count": 136,
   "id": "14047551",
   "metadata": {},
   "outputs": [],
   "source": [
    "bar_marital_spending.figure.savefig(os.path.join(path, 'Analysis','Visualizations', 'bar_marital_spending.png'))"
   ]
  },
  {
   "cell_type": "code",
   "execution_count": 137,
   "id": "1346ead3",
   "metadata": {},
   "outputs": [],
   "source": [
    "# Spending by Dependants\n",
    "dep_spending_counts = df.groupby(['number_of_dependants', 'spending_flag']).size().unstack(fill_value=0)"
   ]
  },
  {
   "cell_type": "code",
   "execution_count": 138,
   "id": "1514edb0",
   "metadata": {},
   "outputs": [
    {
     "data": {
      "text/plain": [
       "Text(0.5, 0, '')"
      ]
     },
     "execution_count": 138,
     "metadata": {},
     "output_type": "execute_result"
    },
    {
     "data": {
      "image/png": "[encoded data removed]",
      "text/plain": [
       "<Figure size 640x480 with 1 Axes>"
      ]
     },
     "metadata": {},
     "output_type": "display_data"
    }
   ],
   "source": [
    "bar_dep_spending = dep_spending_counts.plot.bar(stacked=True)\n",
    "plt.title('Spending by Dependants', fontsize=13)\n",
    "plt.xlabel('')"
   ]
  },
  {
   "cell_type": "code",
   "execution_count": 139,
   "id": "9cb6100c",
   "metadata": {},
   "outputs": [],
   "source": [
    "bar_dep_spending.figure.savefig(os.path.join(path, 'Analysis','Visualizations', 'bar_dependant_spending.png'))"
   ]
  },
  {
   "cell_type": "raw",
   "id": "c503a385",
   "metadata": {},
   "source": [
    "# unusable cell"
   ]
  },
  {
   "cell_type": "markdown",
   "id": "86507961",
   "metadata": {},
   "source": []
  },
  {
   "cell_type": "markdown",
   "id": "ac46132d",
   "metadata": {},
   "source": [
    "## 5.1) Customer Density by Region"
   ]
  },
  {
   "cell_type": "code",
   "execution_count": 40,
   "id": "041b6e68",
   "metadata": {},
   "outputs": [
    {
     "data": {
      "image/png": "[encoded data removed]",
      "text/plain": [
       "<Figure size 800x800 with 1 Axes>"
      ]
     },
     "metadata": {},
     "output_type": "display_data"
    }
   ],
   "source": [
    "region_pie_chart = df['Region'].value_counts().plot.pie(figsize = (8,8), \n",
    "                                                                colors = sns.color_palette('mako', 4), \n",
    "                                                                autopct = '%1.1f%%')\n",
    "plt.ylabel('')\n",
    "plt.title('Regions',fontsize=13)\n",
    "plt.show()"
   ]
  },
  {
   "cell_type": "code",
   "execution_count": 41,
   "id": "7c823436",
   "metadata": {},
   "outputs": [],
   "source": [
    "region_pie_chart.figure.savefig(os.path.join(path, 'Analysis','Visualizations', 'region_pie_chart.png'))"
   ]
  },
  {
   "cell_type": "code",
   "execution_count": null,
   "id": "6bde0f62",
   "metadata": {},
   "outputs": [],
   "source": []
  },
  {
   "cell_type": "markdown",
   "id": "55867696",
   "metadata": {},
   "source": [
    "# 6) Department Profile"
   ]
  },
  {
   "cell_type": "code",
   "execution_count": 29,
   "id": "43a70553",
   "metadata": {},
   "outputs": [
    {
     "data": {
      "image/png": "[encoded data removed]",
      "text/plain": [
       "<Figure size 640x480 with 1 Axes>"
      ]
     },
     "metadata": {},
     "output_type": "display_data"
    }
   ],
   "source": [
    "# Department Popularity Chart\n",
    "bar_dept = df['department_id'].value_counts().plot.bar()"
   ]
  },
  {
   "cell_type": "code",
   "execution_count": 32,
   "id": "85530f2f",
   "metadata": {},
   "outputs": [
    {
     "data": {
      "text/html": [
       "<div>\n",
       "<style scoped>\n",
       "    .dataframe tbody tr th:only-of-type {\n",
       "        vertical-align: middle;\n",
       "    }\n",
       "\n",
       "    .dataframe tbody tr th {\n",
       "        vertical-align: top;\n",
       "    }\n",
       "\n",
       "    .dataframe thead th {\n",
       "        text-align: right;\n",
       "    }\n",
       "</style>\n",
       "<table border=\"1\" class=\"dataframe\">\n",
       "  <thead>\n",
       "    <tr style=\"text-align: right;\">\n",
       "      <th></th>\n",
       "      <th>Unnamed: 0</th>\n",
       "      <th>department</th>\n",
       "    </tr>\n",
       "  </thead>\n",
       "  <tbody>\n",
       "    <tr>\n",
       "      <th>0</th>\n",
       "      <td>1</td>\n",
       "      <td>frozen</td>\n",
       "    </tr>\n",
       "    <tr>\n",
       "      <th>1</th>\n",
       "      <td>2</td>\n",
       "      <td>other</td>\n",
       "    </tr>\n",
       "    <tr>\n",
       "      <th>2</th>\n",
       "      <td>3</td>\n",
       "      <td>bakery</td>\n",
       "    </tr>\n",
       "    <tr>\n",
       "      <th>3</th>\n",
       "      <td>4</td>\n",
       "      <td>produce</td>\n",
       "    </tr>\n",
       "    <tr>\n",
       "      <th>4</th>\n",
       "      <td>5</td>\n",
       "      <td>alcohol</td>\n",
       "    </tr>\n",
       "  </tbody>\n",
       "</table>\n",
       "</div>"
      ],
      "text/plain": [
       "   Unnamed: 0 department\n",
       "0           1     frozen\n",
       "1           2      other\n",
       "2           3     bakery\n",
       "3           4    produce\n",
       "4           5    alcohol"
      ]
     },
     "execution_count": 32,
     "metadata": {},
     "output_type": "execute_result"
    }
   ],
   "source": [
    "departments.head()"
   ]
  },
  {
   "cell_type": "code",
   "execution_count": 33,
   "id": "ff82f517",
   "metadata": {},
   "outputs": [],
   "source": [
    "departments.rename(columns = {'Unnamed: 0' : 'department_id'}, inplace = True)"
   ]
  },
  {
   "cell_type": "code",
   "execution_count": 34,
   "id": "7040081f",
   "metadata": {},
   "outputs": [
    {
     "data": {
      "text/html": [
       "<div>\n",
       "<style scoped>\n",
       "    .dataframe tbody tr th:only-of-type {\n",
       "        vertical-align: middle;\n",
       "    }\n",
       "\n",
       "    .dataframe tbody tr th {\n",
       "        vertical-align: top;\n",
       "    }\n",
       "\n",
       "    .dataframe thead th {\n",
       "        text-align: right;\n",
       "    }\n",
       "</style>\n",
       "<table border=\"1\" class=\"dataframe\">\n",
       "  <thead>\n",
       "    <tr style=\"text-align: right;\">\n",
       "      <th></th>\n",
       "      <th>department_id</th>\n",
       "      <th>department</th>\n",
       "    </tr>\n",
       "  </thead>\n",
       "  <tbody>\n",
       "    <tr>\n",
       "      <th>0</th>\n",
       "      <td>1</td>\n",
       "      <td>frozen</td>\n",
       "    </tr>\n",
       "    <tr>\n",
       "      <th>1</th>\n",
       "      <td>2</td>\n",
       "      <td>other</td>\n",
       "    </tr>\n",
       "    <tr>\n",
       "      <th>2</th>\n",
       "      <td>3</td>\n",
       "      <td>bakery</td>\n",
       "    </tr>\n",
       "    <tr>\n",
       "      <th>3</th>\n",
       "      <td>4</td>\n",
       "      <td>produce</td>\n",
       "    </tr>\n",
       "    <tr>\n",
       "      <th>4</th>\n",
       "      <td>5</td>\n",
       "      <td>alcohol</td>\n",
       "    </tr>\n",
       "  </tbody>\n",
       "</table>\n",
       "</div>"
      ],
      "text/plain": [
       "   department_id department\n",
       "0              1     frozen\n",
       "1              2      other\n",
       "2              3     bakery\n",
       "3              4    produce\n",
       "4              5    alcohol"
      ]
     },
     "execution_count": 34,
     "metadata": {},
     "output_type": "execute_result"
    }
   ],
   "source": [
    "departments.head()"
   ]
  },
  {
   "cell_type": "code",
   "execution_count": 35,
   "id": "85084cd8",
   "metadata": {},
   "outputs": [],
   "source": [
    "#merge to df by individual values in department_id column\n",
    "df.loc[df['department_id'] == 1, 'Department'] = 'Frozen'\n",
    "df.loc[df['department_id'] == 2, 'Department'] = 'Other'\n",
    "df.loc[df['department_id'] == 3, 'Department'] = 'Bakery'\n",
    "df.loc[df['department_id'] == 4, 'Department'] = 'Produce'\n",
    "df.loc[df['department_id'] == 5, 'Department'] = 'Alcohol'\n",
    "df.loc[df['department_id'] == 6, 'Department'] = 'International'\n",
    "df.loc[df['department_id'] == 7, 'Department'] = 'Beverages'\n",
    "df.loc[df['department_id'] == 8, 'Department'] = 'Pets'\n",
    "df.loc[df['department_id'] == 9, 'Department'] = 'Dry Goods Pasta'\n",
    "df.loc[df['department_id'] == 10, 'Department'] = 'Bulk'\n",
    "df.loc[df['department_id'] == 11, 'Department'] = 'Personal Care'\n",
    "df.loc[df['department_id'] == 12, 'Department'] = 'Meat/Seafood'\n",
    "df.loc[df['department_id'] == 13, 'Department'] = 'Pantry'\n",
    "df.loc[df['department_id'] == 14, 'Department'] = 'Breakfast'\n",
    "df.loc[df['department_id'] == 15, 'Department'] = 'Canned Goods'\n",
    "df.loc[df['department_id'] == 16, 'Department'] = 'Dairy/Eggs'\n",
    "df.loc[df['department_id'] == 17, 'Department'] = 'Household'\n",
    "df.loc[df['department_id'] == 18, 'Department'] = 'Babies'\n",
    "df.loc[df['department_id'] == 19, 'Department'] = 'Snacks'\n",
    "df.loc[df['department_id'] == 20, 'Department'] = 'Deli'\n",
    "df.loc[df['department_id'] == 21, 'Department'] = 'Missing'"
   ]
  },
  {
   "cell_type": "code",
   "execution_count": 36,
   "id": "6b4af18d",
   "metadata": {},
   "outputs": [
    {
     "data": {
      "text/plain": [
       "Produce            8963496\n",
       "Dairy/Eggs         5101185\n",
       "Snacks             2730482\n",
       "Beverages          2540159\n",
       "Frozen             2113059\n",
       "Pantry             1771171\n",
       "Bakery             1108540\n",
       "Canned Goods       1009660\n",
       "Deli                993564\n",
       "Dry Goods Pasta     819814\n",
       "Household           696686\n",
       "Meat/Seafood        671242\n",
       "Breakfast           663250\n",
       "Personal Care       421568\n",
       "Babies              400378\n",
       "International       254641\n",
       "Alcohol             146535\n",
       "Pets                 92253\n",
       "Missing              65411\n",
       "Other                34035\n",
       "Bulk                 32612\n",
       "Name: Department, dtype: int64"
      ]
     },
     "execution_count": 36,
     "metadata": {},
     "output_type": "execute_result"
    }
   ],
   "source": [
    "#check\n",
    "df['Department'].value_counts(dropna = False)"
   ]
  },
  {
   "cell_type": "code",
   "execution_count": 37,
   "id": "f8375aa2",
   "metadata": {},
   "outputs": [
    {
     "data": {
      "image/png": "[encoded data removed]",
      "text/plain": [
       "<Figure size 640x480 with 1 Axes>"
      ]
     },
     "metadata": {},
     "output_type": "display_data"
    }
   ],
   "source": [
    "#bar chart for popularity of departments\n",
    "bar_dept = df['Department'].value_counts().sort_values().plot.barh()\n",
    "plt.ylabel('')\n",
    "plt.xlabel('Department')\n",
    "plt.title('Deparment Popularity',fontsize=13)\n",
    "plt.show()"
   ]
  },
  {
   "cell_type": "code",
   "execution_count": 38,
   "id": "373c2d26",
   "metadata": {},
   "outputs": [],
   "source": [
    "bar_dept.figure.savefig(os.path.join(path, 'Analysis','Visualizations', 'bar_dept_pop.png'))"
   ]
  },
  {
   "cell_type": "code",
   "execution_count": 107,
   "id": "b6f5ecb9",
   "metadata": {},
   "outputs": [],
   "source": [
    "# bar chart for department by dependants\n",
    "dep_dept_count = df.groupby(['Department','number_of_dependants']).size().unstack(fill_value=0)"
   ]
  },
  {
   "cell_type": "code",
   "execution_count": 110,
   "id": "32592b87",
   "metadata": {},
   "outputs": [
    {
     "data": {
      "text/plain": [
       "Text(0.5, 0, 'Department')"
      ]
     },
     "execution_count": 110,
     "metadata": {},
     "output_type": "execute_result"
    },
    {
     "data": {
      "image/png": "[encoded data removed]",
      "text/plain": [
       "<Figure size 640x480 with 1 Axes>"
      ]
     },
     "metadata": {},
     "output_type": "display_data"
    }
   ],
   "source": [
    "bar_dep_dept_count = dep_dept_count.sort_values(['Department']).plot.barh(stacked=True)\n",
    "plt.title('Deparment By Dependants',fontsize=13)\n",
    "plt.xlabel('Department')"
   ]
  },
  {
   "cell_type": "code",
   "execution_count": 112,
   "id": "0918b7e0",
   "metadata": {},
   "outputs": [],
   "source": [
    "bar_dep_dept_count.figure.savefig(os.path.join(path, 'Analysis','Visualizations', 'bar_dept_dep.png'))"
   ]
  },
  {
   "cell_type": "code",
   "execution_count": 158,
   "id": "47784b17",
   "metadata": {},
   "outputs": [],
   "source": [
    "# Creating Popularity Chart for Departments by age group\n",
    "age_department_count = df.groupby(['Department','age_group_simple']).size().unstack(fill_value=0)"
   ]
  },
  {
   "cell_type": "code",
   "execution_count": 159,
   "id": "328a167f",
   "metadata": {},
   "outputs": [
    {
     "data": {
      "image/png": "[encoded data removed]",
      "text/plain": [
       "<Figure size 640x480 with 1 Axes>"
      ]
     },
     "metadata": {},
     "output_type": "display_data"
    }
   ],
   "source": [
    "age_dept_bar = age_department_count.plot.bar(stacked=True)"
   ]
  },
  {
   "cell_type": "code",
   "execution_count": 160,
   "id": "6599a5a2",
   "metadata": {},
   "outputs": [],
   "source": [
    "age_dept_bar.figure.savefig(os.path.join(path, 'Analysis','Visualizations', 'age_dept_preference.png'))"
   ]
  },
  {
   "cell_type": "markdown",
   "id": "8d9a5394",
   "metadata": {},
   "source": [
    "# 7) Income"
   ]
  },
  {
   "cell_type": "code",
   "execution_count": 53,
   "id": "dd582119",
   "metadata": {},
   "outputs": [],
   "source": [
    "df.loc[(df['income'] <= 68000), 'income_group'] = 'Low Income'\n",
    "df.loc[(df['income'] > 68000) & (df['income'] <= 128000), 'income_group'] = 'Middle Income'\n",
    "df.loc[(df['income'] > 128000), 'income_group'] = 'High Income'"
   ]
  },
  {
   "cell_type": "code",
   "execution_count": 57,
   "id": "9a8a2b34",
   "metadata": {},
   "outputs": [
    {
     "data": {
      "text/html": [
       "<div>\n",
       "<style scoped>\n",
       "    .dataframe tbody tr th:only-of-type {\n",
       "        vertical-align: middle;\n",
       "    }\n",
       "\n",
       "    .dataframe tbody tr th {\n",
       "        vertical-align: top;\n",
       "    }\n",
       "\n",
       "    .dataframe thead th {\n",
       "        text-align: right;\n",
       "    }\n",
       "</style>\n",
       "<table border=\"1\" class=\"dataframe\">\n",
       "  <thead>\n",
       "    <tr style=\"text-align: right;\">\n",
       "      <th></th>\n",
       "      <th>user_id</th>\n",
       "      <th>Gender</th>\n",
       "      <th>State</th>\n",
       "      <th>Age</th>\n",
       "      <th>date_joined</th>\n",
       "      <th>number_of_dependants</th>\n",
       "      <th>marital_status</th>\n",
       "      <th>income</th>\n",
       "      <th>product_id</th>\n",
       "      <th>product_name</th>\n",
       "      <th>...</th>\n",
       "      <th>busiest_period_of_day</th>\n",
       "      <th>max_order</th>\n",
       "      <th>loyalty_flag</th>\n",
       "      <th>mean_price</th>\n",
       "      <th>spending_flag</th>\n",
       "      <th>median_days</th>\n",
       "      <th>frequency_flag</th>\n",
       "      <th>Region</th>\n",
       "      <th>Department</th>\n",
       "      <th>income_group</th>\n",
       "    </tr>\n",
       "  </thead>\n",
       "  <tbody>\n",
       "    <tr>\n",
       "      <th>0</th>\n",
       "      <td>26711</td>\n",
       "      <td>Female</td>\n",
       "      <td>Missouri</td>\n",
       "      <td>48</td>\n",
       "      <td>1/1/2017</td>\n",
       "      <td>3</td>\n",
       "      <td>married</td>\n",
       "      <td>165665</td>\n",
       "      <td>196</td>\n",
       "      <td>Soda</td>\n",
       "      <td>...</td>\n",
       "      <td>Most Orders</td>\n",
       "      <td>8</td>\n",
       "      <td>New customer</td>\n",
       "      <td>7.988889</td>\n",
       "      <td>Low Spender</td>\n",
       "      <td>19.0</td>\n",
       "      <td>Regular customer</td>\n",
       "      <td>Midwest</td>\n",
       "      <td>Beverages</td>\n",
       "      <td>High Income</td>\n",
       "    </tr>\n",
       "    <tr>\n",
       "      <th>1</th>\n",
       "      <td>26711</td>\n",
       "      <td>Female</td>\n",
       "      <td>Missouri</td>\n",
       "      <td>48</td>\n",
       "      <td>1/1/2017</td>\n",
       "      <td>3</td>\n",
       "      <td>married</td>\n",
       "      <td>165665</td>\n",
       "      <td>196</td>\n",
       "      <td>Soda</td>\n",
       "      <td>...</td>\n",
       "      <td>Most Orders</td>\n",
       "      <td>8</td>\n",
       "      <td>New customer</td>\n",
       "      <td>7.988889</td>\n",
       "      <td>Low Spender</td>\n",
       "      <td>19.0</td>\n",
       "      <td>Regular customer</td>\n",
       "      <td>Midwest</td>\n",
       "      <td>Beverages</td>\n",
       "      <td>High Income</td>\n",
       "    </tr>\n",
       "    <tr>\n",
       "      <th>2</th>\n",
       "      <td>26711</td>\n",
       "      <td>Female</td>\n",
       "      <td>Missouri</td>\n",
       "      <td>48</td>\n",
       "      <td>1/1/2017</td>\n",
       "      <td>3</td>\n",
       "      <td>married</td>\n",
       "      <td>165665</td>\n",
       "      <td>196</td>\n",
       "      <td>Soda</td>\n",
       "      <td>...</td>\n",
       "      <td>Most Orders</td>\n",
       "      <td>8</td>\n",
       "      <td>New customer</td>\n",
       "      <td>7.988889</td>\n",
       "      <td>Low Spender</td>\n",
       "      <td>19.0</td>\n",
       "      <td>Regular customer</td>\n",
       "      <td>Midwest</td>\n",
       "      <td>Beverages</td>\n",
       "      <td>High Income</td>\n",
       "    </tr>\n",
       "    <tr>\n",
       "      <th>3</th>\n",
       "      <td>26711</td>\n",
       "      <td>Female</td>\n",
       "      <td>Missouri</td>\n",
       "      <td>48</td>\n",
       "      <td>1/1/2017</td>\n",
       "      <td>3</td>\n",
       "      <td>married</td>\n",
       "      <td>165665</td>\n",
       "      <td>6184</td>\n",
       "      <td>Clementines</td>\n",
       "      <td>...</td>\n",
       "      <td>Most Orders</td>\n",
       "      <td>8</td>\n",
       "      <td>New customer</td>\n",
       "      <td>7.988889</td>\n",
       "      <td>Low Spender</td>\n",
       "      <td>19.0</td>\n",
       "      <td>Regular customer</td>\n",
       "      <td>Midwest</td>\n",
       "      <td>Produce</td>\n",
       "      <td>High Income</td>\n",
       "    </tr>\n",
       "    <tr>\n",
       "      <th>4</th>\n",
       "      <td>26711</td>\n",
       "      <td>Female</td>\n",
       "      <td>Missouri</td>\n",
       "      <td>48</td>\n",
       "      <td>1/1/2017</td>\n",
       "      <td>3</td>\n",
       "      <td>married</td>\n",
       "      <td>165665</td>\n",
       "      <td>6184</td>\n",
       "      <td>Clementines</td>\n",
       "      <td>...</td>\n",
       "      <td>Most Orders</td>\n",
       "      <td>8</td>\n",
       "      <td>New customer</td>\n",
       "      <td>7.988889</td>\n",
       "      <td>Low Spender</td>\n",
       "      <td>19.0</td>\n",
       "      <td>Regular customer</td>\n",
       "      <td>Midwest</td>\n",
       "      <td>Produce</td>\n",
       "      <td>High Income</td>\n",
       "    </tr>\n",
       "  </tbody>\n",
       "</table>\n",
       "<p>5 rows × 34 columns</p>\n",
       "</div>"
      ],
      "text/plain": [
       "   user_id  Gender     State  Age date_joined  number_of_dependants  \\\n",
       "0    26711  Female  Missouri   48    1/1/2017                     3   \n",
       "1    26711  Female  Missouri   48    1/1/2017                     3   \n",
       "2    26711  Female  Missouri   48    1/1/2017                     3   \n",
       "3    26711  Female  Missouri   48    1/1/2017                     3   \n",
       "4    26711  Female  Missouri   48    1/1/2017                     3   \n",
       "\n",
       "  marital_status  income  product_id product_name  ...  busiest_period_of_day  \\\n",
       "0        married  165665         196         Soda  ...            Most Orders   \n",
       "1        married  165665         196         Soda  ...            Most Orders   \n",
       "2        married  165665         196         Soda  ...            Most Orders   \n",
       "3        married  165665        6184  Clementines  ...            Most Orders   \n",
       "4        married  165665        6184  Clementines  ...            Most Orders   \n",
       "\n",
       "   max_order  loyalty_flag  mean_price spending_flag  median_days  \\\n",
       "0          8  New customer    7.988889   Low Spender         19.0   \n",
       "1          8  New customer    7.988889   Low Spender         19.0   \n",
       "2          8  New customer    7.988889   Low Spender         19.0   \n",
       "3          8  New customer    7.988889   Low Spender         19.0   \n",
       "4          8  New customer    7.988889   Low Spender         19.0   \n",
       "\n",
       "     frequency_flag   Region  Department  income_group  \n",
       "0  Regular customer  Midwest   Beverages   High Income  \n",
       "1  Regular customer  Midwest   Beverages   High Income  \n",
       "2  Regular customer  Midwest   Beverages   High Income  \n",
       "3  Regular customer  Midwest     Produce   High Income  \n",
       "4  Regular customer  Midwest     Produce   High Income  \n",
       "\n",
       "[5 rows x 34 columns]"
      ]
     },
     "execution_count": 57,
     "metadata": {},
     "output_type": "execute_result"
    }
   ],
   "source": [
    "df.head()"
   ]
  },
  {
   "cell_type": "code",
   "execution_count": 58,
   "id": "850889cb",
   "metadata": {},
   "outputs": [
    {
     "data": {
      "image/png": "[encoded data removed]",
      "text/plain": [
       "<Figure size 800x800 with 1 Axes>"
      ]
     },
     "metadata": {},
     "output_type": "display_data"
    }
   ],
   "source": [
    "#create pie chart showing density of income groups in customer base\n",
    "income_pie = df['income_group'].value_counts().plot.pie(figsize = (8,8), \n",
    "                                                                colors = sns.color_palette('flare', 3), \n",
    "                                                                autopct = '%1.1f%%')\n",
    "plt.ylabel('')\n",
    "plt.title('Income Groups',fontsize=13)\n",
    "plt.show()"
   ]
  },
  {
   "cell_type": "code",
   "execution_count": 59,
   "id": "284d89ef",
   "metadata": {},
   "outputs": [],
   "source": [
    "income_pie.figure.savefig(os.path.join(path, 'Analysis','Visualizations', 'income_density_pie.png'))"
   ]
  },
  {
   "cell_type": "markdown",
   "id": "cd9aa5ee",
   "metadata": {},
   "source": [
    "# 8) Marital Loyalty"
   ]
  },
  {
   "cell_type": "code",
   "execution_count": 62,
   "id": "eda4f634",
   "metadata": {},
   "outputs": [],
   "source": [
    "#group by marital status and loyalty\n",
    "family_status_loyalty = df.groupby(['loyalty_flag', 'marital_status']).size().unstack(fill_value=0)"
   ]
  },
  {
   "cell_type": "code",
   "execution_count": 63,
   "id": "1bc5a857",
   "metadata": {},
   "outputs": [
    {
     "data": {
      "text/plain": [
       "Text(0.5, 0, '')"
      ]
     },
     "execution_count": 63,
     "metadata": {},
     "output_type": "execute_result"
    },
    {
     "data": {
      "image/png": "[encoded data removed]",
      "text/plain": [
       "<Figure size 640x480 with 1 Axes>"
      ]
     },
     "metadata": {},
     "output_type": "display_data"
    }
   ],
   "source": [
    "# Create bar chart reflecting relationship\n",
    "bar_marital_status_loyalty = family_status_loyalty.plot.bar(stacked=False, rot=0)\n",
    "plt.title('Loyalty by Marital Status',fontsize=13)\n",
    "plt.xlabel('')"
   ]
  },
  {
   "cell_type": "code",
   "execution_count": 64,
   "id": "6f193f83",
   "metadata": {},
   "outputs": [],
   "source": [
    "bar_marital_status_loyalty.figure.savefig(os.path.join(path, 'Analysis','Visualizations', 'marital_loyalty_corrected.png'))"
   ]
  },
  {
   "cell_type": "markdown",
   "id": "94930318",
   "metadata": {},
   "source": [
    "# 9) Dependants Loyalty"
   ]
  },
  {
   "cell_type": "code",
   "execution_count": 76,
   "id": "f9937e35",
   "metadata": {},
   "outputs": [],
   "source": [
    "dependant_loyalty = df.groupby(['loyalty_flag', 'number_of_dependants']).size().unstack(fill_value=0)"
   ]
  },
  {
   "cell_type": "code",
   "execution_count": 77,
   "id": "275a5251",
   "metadata": {},
   "outputs": [
    {
     "data": {
      "text/plain": [
       "Text(0.5, 0, '')"
      ]
     },
     "execution_count": 77,
     "metadata": {},
     "output_type": "execute_result"
    },
    {
     "data": {
      "image/png": "[encoded data removed]",
      "text/plain": [
       "<Figure size 640x480 with 1 Axes>"
      ]
     },
     "metadata": {},
     "output_type": "display_data"
    }
   ],
   "source": [
    "# Create bar chart reflecting relationship\n",
    "bar_dependant_loyalty = dependant_loyalty.plot.bar(stacked=False, rot=0)\n",
    "plt.title('Loyalty by Dependants',fontsize=13)\n",
    "plt.xlabel('')"
   ]
  },
  {
   "cell_type": "code",
   "execution_count": 71,
   "id": "dd92315f",
   "metadata": {},
   "outputs": [],
   "source": [
    "bar_dependant_loyalty.figure.savefig(os.path.join(path, 'Analysis','Visualizations', 'dependant_loyalty.png'))"
   ]
  },
  {
   "cell_type": "markdown",
   "id": "67cd6b0a",
   "metadata": {},
   "source": [
    "# 10) Loyalty by Age Group\n"
   ]
  },
  {
   "cell_type": "code",
   "execution_count": 81,
   "id": "782b3ae6",
   "metadata": {},
   "outputs": [],
   "source": [
    "#establish age groups\n",
    "df.loc[df['Age'] >= 90, 'age_bracket'] = '90+'"
   ]
  },
  {
   "cell_type": "code",
   "execution_count": 98,
   "id": "b8d35a45",
   "metadata": {},
   "outputs": [],
   "source": [
    "df.loc[(df['Age'] <= 89) & (df['Age'] >= 80), 'age_group'] = '80-89'"
   ]
  },
  {
   "cell_type": "code",
   "execution_count": 97,
   "id": "706a9fac",
   "metadata": {},
   "outputs": [],
   "source": [
    "df.loc[(df['Age'] <= 79) & (df['Age'] >= 70), 'age_group'] = '70-79'"
   ]
  },
  {
   "cell_type": "code",
   "execution_count": 96,
   "id": "91e771f4",
   "metadata": {},
   "outputs": [],
   "source": [
    "df.loc[(df['Age'] <= 69) & (df['Age'] >= 60), 'age_group'] = '60-69'"
   ]
  },
  {
   "cell_type": "code",
   "execution_count": 95,
   "id": "d9518a96",
   "metadata": {},
   "outputs": [],
   "source": [
    "df.loc[(df['Age'] <= 59) & (df['Age'] >= 50), 'age_group'] = '50-59'"
   ]
  },
  {
   "cell_type": "code",
   "execution_count": 94,
   "id": "d764d87b",
   "metadata": {},
   "outputs": [],
   "source": [
    "df.loc[(df['Age'] <= 49) & (df['Age'] >= 40), 'age_group'] = '40-49'"
   ]
  },
  {
   "cell_type": "code",
   "execution_count": 93,
   "id": "748aeda9",
   "metadata": {},
   "outputs": [],
   "source": [
    "df.loc[(df['Age'] <= 39) & (df['Age'] >= 30), 'age_group'] = '30-39'"
   ]
  },
  {
   "cell_type": "code",
   "execution_count": 92,
   "id": "d421c1e2",
   "metadata": {},
   "outputs": [],
   "source": [
    "df.loc[(df['Age'] <= 29) & (df['Age'] >= 20), 'age_group'] = '20-29'"
   ]
  },
  {
   "cell_type": "code",
   "execution_count": 91,
   "id": "5d45ba9f",
   "metadata": {},
   "outputs": [],
   "source": [
    "df.loc[(df['Age'] <= 19) & (df['Age'] >= 10), 'age_group'] = '10-19'"
   ]
  },
  {
   "cell_type": "code",
   "execution_count": 100,
   "id": "4003d91c",
   "metadata": {},
   "outputs": [
    {
     "data": {
      "text/plain": [
       "40-49    4815900\n",
       "50-59    4804320\n",
       "30-39    4795448\n",
       "20-29    4785372\n",
       "70-79    4784783\n",
       "60-69    4717936\n",
       "10-19     964840\n",
       "80-89     961142\n",
       "Name: age_group, dtype: int64"
      ]
     },
     "execution_count": 100,
     "metadata": {},
     "output_type": "execute_result"
    }
   ],
   "source": [
    "#check\n",
    "df['age_group'].value_counts(dropna = False)"
   ]
  },
  {
   "cell_type": "code",
   "execution_count": 101,
   "id": "6dc8dff8",
   "metadata": {},
   "outputs": [],
   "source": [
    "#group columns\n",
    "age_loyalty = df.groupby(['loyalty_flag', 'age_group']).size().unstack(fill_value=0)"
   ]
  },
  {
   "cell_type": "code",
   "execution_count": 113,
   "id": "1fbd4d05",
   "metadata": {},
   "outputs": [
    {
     "data": {
      "text/plain": [
       "Text(0.5, 0, '')"
      ]
     },
     "execution_count": 113,
     "metadata": {},
     "output_type": "execute_result"
    },
    {
     "data": {
      "image/png": "[encoded data removed]",
      "text/plain": [
       "<Figure size 640x480 with 1 Axes>"
      ]
     },
     "metadata": {},
     "output_type": "display_data"
    }
   ],
   "source": [
    "# Create bar chart reflecting relationship\n",
    "age_loyalty_bar = age_loyalty.plot.bar(stacked=False, rot=0)\n",
    "plt.title('Loyalty by Age',fontsize=13)\n",
    "plt.xlabel('')"
   ]
  },
  {
   "cell_type": "code",
   "execution_count": 114,
   "id": "17f94d48",
   "metadata": {},
   "outputs": [],
   "source": [
    "age_loyalty_bar.figure.savefig(os.path.join(path, 'Analysis','Visualizations', 'age_loyalty_corrected.png'))"
   ]
  },
  {
   "cell_type": "markdown",
   "id": "2e4e22a0",
   "metadata": {},
   "source": [
    "# 11) Product Price Range"
   ]
  },
  {
   "cell_type": "code",
   "execution_count": 104,
   "id": "e927f73b",
   "metadata": {},
   "outputs": [
    {
     "data": {
      "image/png": "[encoded data removed]",
      "text/plain": [
       "<Figure size 800x800 with 1 Axes>"
      ]
     },
     "metadata": {},
     "output_type": "display_data"
    }
   ],
   "source": [
    "price_range_pie = df['price_range_loc'].value_counts().plot.pie(figsize = (8,8), \n",
    "                                                                colors = sns.color_palette('crest', 3), \n",
    "                                                                autopct = '%1.1f%%')\n",
    "plt.ylabel('')\n",
    "plt.title('Price Ranges',fontsize=13)\n",
    "plt.show()"
   ]
  },
  {
   "cell_type": "code",
   "execution_count": 105,
   "id": "909be130",
   "metadata": {},
   "outputs": [],
   "source": [
    "price_range_pie.figure.savefig(os.path.join(path, 'Analysis','Visualizations', 'Price_Range_Pie.png'))"
   ]
  },
  {
   "cell_type": "markdown",
   "id": "c84f3ba9",
   "metadata": {},
   "source": [
    "# 12) Customer Demographics"
   ]
  },
  {
   "cell_type": "code",
   "execution_count": 117,
   "id": "434f2882",
   "metadata": {},
   "outputs": [],
   "source": [
    "# Creating bar chart for marital status of different income levels\n",
    "marital_income_counts = df.groupby(['marital_status','income_group']).size().unstack(fill_value=0)"
   ]
  },
  {
   "cell_type": "code",
   "execution_count": 119,
   "id": "83213f47",
   "metadata": {},
   "outputs": [
    {
     "data": {
      "image/png": "[encoded data removed]",
      "text/plain": [
       "<Figure size 640x480 with 1 Axes>"
      ]
     },
     "metadata": {},
     "output_type": "display_data"
    }
   ],
   "source": [
    "marital_income_counts = marital_income_counts.plot.bar(stacked=True )"
   ]
  },
  {
   "cell_type": "code",
   "execution_count": null,
   "id": "4d3d74f2",
   "metadata": {},
   "outputs": [],
   "source": [
    "marital_income_counts.figure.savefig(os.path.join(path, 'Analysis','Visualizations', 'marital_income_bar.png'))"
   ]
  },
  {
   "cell_type": "code",
   "execution_count": 128,
   "id": "d703ccf7",
   "metadata": {},
   "outputs": [],
   "source": [
    "#setting flag for simplifying age groups\n",
    "df.loc[df['Age']>= 65, 'age_group_simple'] = 'Senior'"
   ]
  },
  {
   "cell_type": "code",
   "execution_count": 129,
   "id": "3f55232e",
   "metadata": {},
   "outputs": [],
   "source": [
    "df.loc[(df['Age'] < 65) & (df['Age'] >= 35), 'age_group_simple'] = 'Middle Age'"
   ]
  },
  {
   "cell_type": "code",
   "execution_count": 130,
   "id": "4cc9fd60",
   "metadata": {},
   "outputs": [],
   "source": [
    "df.loc[df['Age'] <35, 'age_group_simple'] = 'Young Adult'"
   ]
  },
  {
   "cell_type": "code",
   "execution_count": null,
   "id": "05dc166f",
   "metadata": {},
   "outputs": [],
   "source": []
  },
  {
   "cell_type": "code",
   "execution_count": null,
   "id": "4556a3cc",
   "metadata": {},
   "outputs": [],
   "source": []
  },
  {
   "cell_type": "code",
   "execution_count": null,
   "id": "54f76425",
   "metadata": {},
   "outputs": [],
   "source": []
  },
  {
   "cell_type": "code",
   "execution_count": 140,
   "id": "e5987944",
   "metadata": {},
   "outputs": [
    {
     "data": {
      "text/plain": [
       "(30629741, 37)"
      ]
     },
     "execution_count": 140,
     "metadata": {},
     "output_type": "execute_result"
    }
   ],
   "source": [
    "df.shape"
   ]
  },
  {
   "cell_type": "code",
   "execution_count": 149,
   "id": "d85ea45d",
   "metadata": {},
   "outputs": [],
   "source": [
    "# create dependant flag for simplified aggregates\n",
    "df.loc[df['number_of_dependants'] == 0, 'dependants'] = 'No Dependants'"
   ]
  },
  {
   "cell_type": "code",
   "execution_count": 150,
   "id": "2db3715e",
   "metadata": {},
   "outputs": [],
   "source": [
    "df.loc[df['number_of_dependants'] >= 1, 'dependants'] = 'Has Dependants'"
   ]
  },
  {
   "cell_type": "code",
   "execution_count": 151,
   "id": "2103b968",
   "metadata": {},
   "outputs": [
    {
     "data": {
      "text/plain": [
       "Has Dependants    22980043\n",
       "No Dependants      7649698\n",
       "Name: dependants, dtype: int64"
      ]
     },
     "execution_count": 151,
     "metadata": {},
     "output_type": "execute_result"
    }
   ],
   "source": [
    "df['dependants'].value_counts()"
   ]
  },
  {
   "cell_type": "markdown",
   "id": "e57e0c08",
   "metadata": {},
   "source": [
    "# 13) Aggregates"
   ]
  },
  {
   "cell_type": "code",
   "execution_count": 146,
   "id": "67df032f",
   "metadata": {},
   "outputs": [
    {
     "data": {
      "text/html": [
       "<div>\n",
       "<style scoped>\n",
       "    .dataframe tbody tr th:only-of-type {\n",
       "        vertical-align: middle;\n",
       "    }\n",
       "\n",
       "    .dataframe tbody tr th {\n",
       "        vertical-align: top;\n",
       "    }\n",
       "\n",
       "    .dataframe thead tr th {\n",
       "        text-align: left;\n",
       "    }\n",
       "\n",
       "    .dataframe thead tr:last-of-type th {\n",
       "        text-align: right;\n",
       "    }\n",
       "</style>\n",
       "<table border=\"1\" class=\"dataframe\">\n",
       "  <thead>\n",
       "    <tr>\n",
       "      <th></th>\n",
       "      <th colspan=\"3\" halign=\"left\">prices</th>\n",
       "    </tr>\n",
       "    <tr>\n",
       "      <th></th>\n",
       "      <th>mean</th>\n",
       "      <th>min</th>\n",
       "      <th>max</th>\n",
       "    </tr>\n",
       "    <tr>\n",
       "      <th>age_group</th>\n",
       "      <th></th>\n",
       "      <th></th>\n",
       "      <th></th>\n",
       "    </tr>\n",
       "  </thead>\n",
       "  <tbody>\n",
       "    <tr>\n",
       "      <th>10-19</th>\n",
       "      <td>7.810268</td>\n",
       "      <td>1.0</td>\n",
       "      <td>25.0</td>\n",
       "    </tr>\n",
       "    <tr>\n",
       "      <th>20-29</th>\n",
       "      <td>7.779803</td>\n",
       "      <td>1.0</td>\n",
       "      <td>25.0</td>\n",
       "    </tr>\n",
       "    <tr>\n",
       "      <th>30-39</th>\n",
       "      <td>7.791036</td>\n",
       "      <td>1.0</td>\n",
       "      <td>25.0</td>\n",
       "    </tr>\n",
       "    <tr>\n",
       "      <th>40-49</th>\n",
       "      <td>7.801065</td>\n",
       "      <td>1.0</td>\n",
       "      <td>25.0</td>\n",
       "    </tr>\n",
       "    <tr>\n",
       "      <th>50-59</th>\n",
       "      <td>7.783737</td>\n",
       "      <td>1.0</td>\n",
       "      <td>25.0</td>\n",
       "    </tr>\n",
       "    <tr>\n",
       "      <th>60-69</th>\n",
       "      <td>7.798931</td>\n",
       "      <td>1.0</td>\n",
       "      <td>25.0</td>\n",
       "    </tr>\n",
       "    <tr>\n",
       "      <th>70-79</th>\n",
       "      <td>7.790684</td>\n",
       "      <td>1.0</td>\n",
       "      <td>25.0</td>\n",
       "    </tr>\n",
       "    <tr>\n",
       "      <th>80-89</th>\n",
       "      <td>7.804922</td>\n",
       "      <td>1.0</td>\n",
       "      <td>25.0</td>\n",
       "    </tr>\n",
       "  </tbody>\n",
       "</table>\n",
       "</div>"
      ],
      "text/plain": [
       "             prices           \n",
       "               mean  min   max\n",
       "age_group                     \n",
       "10-19      7.810268  1.0  25.0\n",
       "20-29      7.779803  1.0  25.0\n",
       "30-39      7.791036  1.0  25.0\n",
       "40-49      7.801065  1.0  25.0\n",
       "50-59      7.783737  1.0  25.0\n",
       "60-69      7.798931  1.0  25.0\n",
       "70-79      7.790684  1.0  25.0\n",
       "80-89      7.804922  1.0  25.0"
      ]
     },
     "execution_count": 146,
     "metadata": {},
     "output_type": "execute_result"
    }
   ],
   "source": [
    "# age and spending \n",
    "df.groupby('age_group').agg({'prices': ['mean', 'min', 'max']})"
   ]
  },
  {
   "cell_type": "code",
   "execution_count": 147,
   "id": "41d111a7",
   "metadata": {},
   "outputs": [
    {
     "data": {
      "text/html": [
       "<div>\n",
       "<style scoped>\n",
       "    .dataframe tbody tr th:only-of-type {\n",
       "        vertical-align: middle;\n",
       "    }\n",
       "\n",
       "    .dataframe tbody tr th {\n",
       "        vertical-align: top;\n",
       "    }\n",
       "\n",
       "    .dataframe thead tr th {\n",
       "        text-align: left;\n",
       "    }\n",
       "\n",
       "    .dataframe thead tr:last-of-type th {\n",
       "        text-align: right;\n",
       "    }\n",
       "</style>\n",
       "<table border=\"1\" class=\"dataframe\">\n",
       "  <thead>\n",
       "    <tr>\n",
       "      <th></th>\n",
       "      <th colspan=\"3\" halign=\"left\">prices</th>\n",
       "    </tr>\n",
       "    <tr>\n",
       "      <th></th>\n",
       "      <th>mean</th>\n",
       "      <th>min</th>\n",
       "      <th>max</th>\n",
       "    </tr>\n",
       "    <tr>\n",
       "      <th>age_group_simple</th>\n",
       "      <th></th>\n",
       "      <th></th>\n",
       "      <th></th>\n",
       "    </tr>\n",
       "  </thead>\n",
       "  <tbody>\n",
       "    <tr>\n",
       "      <th>Middle Age</th>\n",
       "      <td>7.791580</td>\n",
       "      <td>1.0</td>\n",
       "      <td>25.0</td>\n",
       "    </tr>\n",
       "    <tr>\n",
       "      <th>Senior</th>\n",
       "      <td>7.797187</td>\n",
       "      <td>1.0</td>\n",
       "      <td>25.0</td>\n",
       "    </tr>\n",
       "    <tr>\n",
       "      <th>Young Adult</th>\n",
       "      <td>7.787264</td>\n",
       "      <td>1.0</td>\n",
       "      <td>25.0</td>\n",
       "    </tr>\n",
       "  </tbody>\n",
       "</table>\n",
       "</div>"
      ],
      "text/plain": [
       "                    prices           \n",
       "                      mean  min   max\n",
       "age_group_simple                     \n",
       "Middle Age        7.791580  1.0  25.0\n",
       "Senior            7.797187  1.0  25.0\n",
       "Young Adult       7.787264  1.0  25.0"
      ]
     },
     "execution_count": 147,
     "metadata": {},
     "output_type": "execute_result"
    }
   ],
   "source": [
    "# age simplified and spending\n",
    "# age and spending aggregations\n",
    "df.groupby('age_group_simple').agg({'prices': ['mean', 'min', 'max']})"
   ]
  },
  {
   "cell_type": "code",
   "execution_count": 148,
   "id": "39b1211c",
   "metadata": {},
   "outputs": [
    {
     "data": {
      "text/html": [
       "<div>\n",
       "<style scoped>\n",
       "    .dataframe tbody tr th:only-of-type {\n",
       "        vertical-align: middle;\n",
       "    }\n",
       "\n",
       "    .dataframe tbody tr th {\n",
       "        vertical-align: top;\n",
       "    }\n",
       "\n",
       "    .dataframe thead tr th {\n",
       "        text-align: left;\n",
       "    }\n",
       "\n",
       "    .dataframe thead tr:last-of-type th {\n",
       "        text-align: right;\n",
       "    }\n",
       "</style>\n",
       "<table border=\"1\" class=\"dataframe\">\n",
       "  <thead>\n",
       "    <tr>\n",
       "      <th></th>\n",
       "      <th colspan=\"3\" halign=\"left\">prices</th>\n",
       "    </tr>\n",
       "    <tr>\n",
       "      <th></th>\n",
       "      <th>mean</th>\n",
       "      <th>min</th>\n",
       "      <th>max</th>\n",
       "    </tr>\n",
       "    <tr>\n",
       "      <th>income_group</th>\n",
       "      <th></th>\n",
       "      <th></th>\n",
       "      <th></th>\n",
       "    </tr>\n",
       "  </thead>\n",
       "  <tbody>\n",
       "    <tr>\n",
       "      <th>High Income</th>\n",
       "      <td>7.956591</td>\n",
       "      <td>1.0</td>\n",
       "      <td>25.0</td>\n",
       "    </tr>\n",
       "    <tr>\n",
       "      <th>Low Income</th>\n",
       "      <td>7.308861</td>\n",
       "      <td>1.0</td>\n",
       "      <td>25.0</td>\n",
       "    </tr>\n",
       "    <tr>\n",
       "      <th>Middle Income</th>\n",
       "      <td>7.962334</td>\n",
       "      <td>1.0</td>\n",
       "      <td>25.0</td>\n",
       "    </tr>\n",
       "  </tbody>\n",
       "</table>\n",
       "</div>"
      ],
      "text/plain": [
       "                 prices           \n",
       "                   mean  min   max\n",
       "income_group                      \n",
       "High Income    7.956591  1.0  25.0\n",
       "Low Income     7.308861  1.0  25.0\n",
       "Middle Income  7.962334  1.0  25.0"
      ]
     },
     "execution_count": 148,
     "metadata": {},
     "output_type": "execute_result"
    }
   ],
   "source": [
    "# income and spending\n",
    "df.groupby('income_group').agg({'prices': ['mean', 'min', 'max']})"
   ]
  },
  {
   "cell_type": "code",
   "execution_count": 152,
   "id": "131d058e",
   "metadata": {},
   "outputs": [
    {
     "data": {
      "text/html": [
       "<div>\n",
       "<style scoped>\n",
       "    .dataframe tbody tr th:only-of-type {\n",
       "        vertical-align: middle;\n",
       "    }\n",
       "\n",
       "    .dataframe tbody tr th {\n",
       "        vertical-align: top;\n",
       "    }\n",
       "\n",
       "    .dataframe thead tr th {\n",
       "        text-align: left;\n",
       "    }\n",
       "\n",
       "    .dataframe thead tr:last-of-type th {\n",
       "        text-align: right;\n",
       "    }\n",
       "</style>\n",
       "<table border=\"1\" class=\"dataframe\">\n",
       "  <thead>\n",
       "    <tr>\n",
       "      <th></th>\n",
       "      <th colspan=\"3\" halign=\"left\">prices</th>\n",
       "    </tr>\n",
       "    <tr>\n",
       "      <th></th>\n",
       "      <th>mean</th>\n",
       "      <th>min</th>\n",
       "      <th>max</th>\n",
       "    </tr>\n",
       "    <tr>\n",
       "      <th>dependants</th>\n",
       "      <th></th>\n",
       "      <th></th>\n",
       "      <th></th>\n",
       "    </tr>\n",
       "  </thead>\n",
       "  <tbody>\n",
       "    <tr>\n",
       "      <th>Has Dependants</th>\n",
       "      <td>7.792702</td>\n",
       "      <td>1.0</td>\n",
       "      <td>25.0</td>\n",
       "    </tr>\n",
       "    <tr>\n",
       "      <th>No Dependants</th>\n",
       "      <td>7.789555</td>\n",
       "      <td>1.0</td>\n",
       "      <td>25.0</td>\n",
       "    </tr>\n",
       "  </tbody>\n",
       "</table>\n",
       "</div>"
      ],
      "text/plain": [
       "                  prices           \n",
       "                    mean  min   max\n",
       "dependants                         \n",
       "Has Dependants  7.792702  1.0  25.0\n",
       "No Dependants   7.789555  1.0  25.0"
      ]
     },
     "execution_count": 152,
     "metadata": {},
     "output_type": "execute_result"
    }
   ],
   "source": [
    "# dependants and spending aggregations\n",
    "df.groupby('dependants').agg({'prices': ['mean', 'min', 'max']})"
   ]
  },
  {
   "cell_type": "code",
   "execution_count": 153,
   "id": "4d774a63",
   "metadata": {},
   "outputs": [
    {
     "data": {
      "text/html": [
       "<div>\n",
       "<style scoped>\n",
       "    .dataframe tbody tr th:only-of-type {\n",
       "        vertical-align: middle;\n",
       "    }\n",
       "\n",
       "    .dataframe tbody tr th {\n",
       "        vertical-align: top;\n",
       "    }\n",
       "\n",
       "    .dataframe thead tr th {\n",
       "        text-align: left;\n",
       "    }\n",
       "\n",
       "    .dataframe thead tr:last-of-type th {\n",
       "        text-align: right;\n",
       "    }\n",
       "</style>\n",
       "<table border=\"1\" class=\"dataframe\">\n",
       "  <thead>\n",
       "    <tr>\n",
       "      <th></th>\n",
       "      <th colspan=\"3\" halign=\"left\">prices</th>\n",
       "    </tr>\n",
       "    <tr>\n",
       "      <th></th>\n",
       "      <th>mean</th>\n",
       "      <th>min</th>\n",
       "      <th>max</th>\n",
       "    </tr>\n",
       "    <tr>\n",
       "      <th>marital_status</th>\n",
       "      <th></th>\n",
       "      <th></th>\n",
       "      <th></th>\n",
       "    </tr>\n",
       "  </thead>\n",
       "  <tbody>\n",
       "    <tr>\n",
       "      <th>divorced/widowed</th>\n",
       "      <td>7.801055</td>\n",
       "      <td>1.0</td>\n",
       "      <td>25.0</td>\n",
       "    </tr>\n",
       "    <tr>\n",
       "      <th>living with parents and siblings</th>\n",
       "      <td>7.806768</td>\n",
       "      <td>1.0</td>\n",
       "      <td>25.0</td>\n",
       "    </tr>\n",
       "    <tr>\n",
       "      <th>married</th>\n",
       "      <td>7.791740</td>\n",
       "      <td>1.0</td>\n",
       "      <td>25.0</td>\n",
       "    </tr>\n",
       "    <tr>\n",
       "      <th>single</th>\n",
       "      <td>7.783529</td>\n",
       "      <td>1.0</td>\n",
       "      <td>25.0</td>\n",
       "    </tr>\n",
       "  </tbody>\n",
       "</table>\n",
       "</div>"
      ],
      "text/plain": [
       "                                    prices           \n",
       "                                      mean  min   max\n",
       "marital_status                                       \n",
       "divorced/widowed                  7.801055  1.0  25.0\n",
       "living with parents and siblings  7.806768  1.0  25.0\n",
       "married                           7.791740  1.0  25.0\n",
       "single                            7.783529  1.0  25.0"
      ]
     },
     "execution_count": 153,
     "metadata": {},
     "output_type": "execute_result"
    }
   ],
   "source": [
    "# marital status and prices\n",
    "df.groupby('marital_status').agg({'prices': ['mean', 'min', 'max']})"
   ]
  },
  {
   "cell_type": "code",
   "execution_count": 154,
   "id": "d78cd87a",
   "metadata": {},
   "outputs": [
    {
     "data": {
      "text/html": [
       "<div>\n",
       "<style scoped>\n",
       "    .dataframe tbody tr th:only-of-type {\n",
       "        vertical-align: middle;\n",
       "    }\n",
       "\n",
       "    .dataframe tbody tr th {\n",
       "        vertical-align: top;\n",
       "    }\n",
       "\n",
       "    .dataframe thead tr th {\n",
       "        text-align: left;\n",
       "    }\n",
       "\n",
       "    .dataframe thead tr:last-of-type th {\n",
       "        text-align: right;\n",
       "    }\n",
       "</style>\n",
       "<table border=\"1\" class=\"dataframe\">\n",
       "  <thead>\n",
       "    <tr>\n",
       "      <th></th>\n",
       "      <th colspan=\"3\" halign=\"left\">days_since_prior_order</th>\n",
       "    </tr>\n",
       "    <tr>\n",
       "      <th></th>\n",
       "      <th>mean</th>\n",
       "      <th>min</th>\n",
       "      <th>max</th>\n",
       "    </tr>\n",
       "    <tr>\n",
       "      <th>age_group_simple</th>\n",
       "      <th></th>\n",
       "      <th></th>\n",
       "      <th></th>\n",
       "    </tr>\n",
       "  </thead>\n",
       "  <tbody>\n",
       "    <tr>\n",
       "      <th>Middle Age</th>\n",
       "      <td>11.114926</td>\n",
       "      <td>0.0</td>\n",
       "      <td>30.0</td>\n",
       "    </tr>\n",
       "    <tr>\n",
       "      <th>Senior</th>\n",
       "      <td>11.080959</td>\n",
       "      <td>0.0</td>\n",
       "      <td>30.0</td>\n",
       "    </tr>\n",
       "    <tr>\n",
       "      <th>Young Adult</th>\n",
       "      <td>11.132158</td>\n",
       "      <td>0.0</td>\n",
       "      <td>30.0</td>\n",
       "    </tr>\n",
       "  </tbody>\n",
       "</table>\n",
       "</div>"
      ],
      "text/plain": [
       "                 days_since_prior_order           \n",
       "                                   mean  min   max\n",
       "age_group_simple                                  \n",
       "Middle Age                    11.114926  0.0  30.0\n",
       "Senior                        11.080959  0.0  30.0\n",
       "Young Adult                   11.132158  0.0  30.0"
      ]
     },
     "execution_count": 154,
     "metadata": {},
     "output_type": "execute_result"
    }
   ],
   "source": [
    "# age and frequency\n",
    "df.groupby('age_group_simple').agg({'days_since_prior_order': ['mean', 'min', 'max']})"
   ]
  },
  {
   "cell_type": "code",
   "execution_count": 155,
   "id": "884a870d",
   "metadata": {},
   "outputs": [
    {
     "data": {
      "text/html": [
       "<div>\n",
       "<style scoped>\n",
       "    .dataframe tbody tr th:only-of-type {\n",
       "        vertical-align: middle;\n",
       "    }\n",
       "\n",
       "    .dataframe tbody tr th {\n",
       "        vertical-align: top;\n",
       "    }\n",
       "\n",
       "    .dataframe thead tr th {\n",
       "        text-align: left;\n",
       "    }\n",
       "\n",
       "    .dataframe thead tr:last-of-type th {\n",
       "        text-align: right;\n",
       "    }\n",
       "</style>\n",
       "<table border=\"1\" class=\"dataframe\">\n",
       "  <thead>\n",
       "    <tr>\n",
       "      <th></th>\n",
       "      <th colspan=\"3\" halign=\"left\">days_since_prior_order</th>\n",
       "    </tr>\n",
       "    <tr>\n",
       "      <th></th>\n",
       "      <th>mean</th>\n",
       "      <th>min</th>\n",
       "      <th>max</th>\n",
       "    </tr>\n",
       "    <tr>\n",
       "      <th>income_group</th>\n",
       "      <th></th>\n",
       "      <th></th>\n",
       "      <th></th>\n",
       "    </tr>\n",
       "  </thead>\n",
       "  <tbody>\n",
       "    <tr>\n",
       "      <th>High Income</th>\n",
       "      <td>11.026326</td>\n",
       "      <td>0.0</td>\n",
       "      <td>30.0</td>\n",
       "    </tr>\n",
       "    <tr>\n",
       "      <th>Low Income</th>\n",
       "      <td>11.318095</td>\n",
       "      <td>0.0</td>\n",
       "      <td>30.0</td>\n",
       "    </tr>\n",
       "    <tr>\n",
       "      <th>Middle Income</th>\n",
       "      <td>11.044724</td>\n",
       "      <td>0.0</td>\n",
       "      <td>30.0</td>\n",
       "    </tr>\n",
       "  </tbody>\n",
       "</table>\n",
       "</div>"
      ],
      "text/plain": [
       "              days_since_prior_order           \n",
       "                                mean  min   max\n",
       "income_group                                   \n",
       "High Income                11.026326  0.0  30.0\n",
       "Low Income                 11.318095  0.0  30.0\n",
       "Middle Income              11.044724  0.0  30.0"
      ]
     },
     "execution_count": 155,
     "metadata": {},
     "output_type": "execute_result"
    }
   ],
   "source": [
    "# income and frequency\n",
    "df.groupby('income_group').agg({'days_since_prior_order': ['mean', 'min', 'max']})"
   ]
  },
  {
   "cell_type": "code",
   "execution_count": 156,
   "id": "bbd00919",
   "metadata": {},
   "outputs": [
    {
     "data": {
      "text/html": [
       "<div>\n",
       "<style scoped>\n",
       "    .dataframe tbody tr th:only-of-type {\n",
       "        vertical-align: middle;\n",
       "    }\n",
       "\n",
       "    .dataframe tbody tr th {\n",
       "        vertical-align: top;\n",
       "    }\n",
       "\n",
       "    .dataframe thead tr th {\n",
       "        text-align: left;\n",
       "    }\n",
       "\n",
       "    .dataframe thead tr:last-of-type th {\n",
       "        text-align: right;\n",
       "    }\n",
       "</style>\n",
       "<table border=\"1\" class=\"dataframe\">\n",
       "  <thead>\n",
       "    <tr>\n",
       "      <th></th>\n",
       "      <th colspan=\"3\" halign=\"left\">days_since_prior_order</th>\n",
       "    </tr>\n",
       "    <tr>\n",
       "      <th></th>\n",
       "      <th>mean</th>\n",
       "      <th>min</th>\n",
       "      <th>max</th>\n",
       "    </tr>\n",
       "    <tr>\n",
       "      <th>dependants</th>\n",
       "      <th></th>\n",
       "      <th></th>\n",
       "      <th></th>\n",
       "    </tr>\n",
       "  </thead>\n",
       "  <tbody>\n",
       "    <tr>\n",
       "      <th>Has Dependants</th>\n",
       "      <td>11.119048</td>\n",
       "      <td>0.0</td>\n",
       "      <td>30.0</td>\n",
       "    </tr>\n",
       "    <tr>\n",
       "      <th>No Dependants</th>\n",
       "      <td>11.084925</td>\n",
       "      <td>0.0</td>\n",
       "      <td>30.0</td>\n",
       "    </tr>\n",
       "  </tbody>\n",
       "</table>\n",
       "</div>"
      ],
      "text/plain": [
       "               days_since_prior_order           \n",
       "                                 mean  min   max\n",
       "dependants                                      \n",
       "Has Dependants              11.119048  0.0  30.0\n",
       "No Dependants               11.084925  0.0  30.0"
      ]
     },
     "execution_count": 156,
     "metadata": {},
     "output_type": "execute_result"
    }
   ],
   "source": [
    "# dependants and frequency\n",
    "df.groupby('dependants').agg({'days_since_prior_order': ['mean', 'min', 'max']})"
   ]
  },
  {
   "cell_type": "code",
   "execution_count": 157,
   "id": "c821c478",
   "metadata": {},
   "outputs": [
    {
     "data": {
      "text/html": [
       "<div>\n",
       "<style scoped>\n",
       "    .dataframe tbody tr th:only-of-type {\n",
       "        vertical-align: middle;\n",
       "    }\n",
       "\n",
       "    .dataframe tbody tr th {\n",
       "        vertical-align: top;\n",
       "    }\n",
       "\n",
       "    .dataframe thead tr th {\n",
       "        text-align: left;\n",
       "    }\n",
       "\n",
       "    .dataframe thead tr:last-of-type th {\n",
       "        text-align: right;\n",
       "    }\n",
       "</style>\n",
       "<table border=\"1\" class=\"dataframe\">\n",
       "  <thead>\n",
       "    <tr>\n",
       "      <th></th>\n",
       "      <th colspan=\"3\" halign=\"left\">days_since_prior_order</th>\n",
       "    </tr>\n",
       "    <tr>\n",
       "      <th></th>\n",
       "      <th>mean</th>\n",
       "      <th>min</th>\n",
       "      <th>max</th>\n",
       "    </tr>\n",
       "    <tr>\n",
       "      <th>marital_status</th>\n",
       "      <th></th>\n",
       "      <th></th>\n",
       "      <th></th>\n",
       "    </tr>\n",
       "  </thead>\n",
       "  <tbody>\n",
       "    <tr>\n",
       "      <th>divorced/widowed</th>\n",
       "      <td>11.027251</td>\n",
       "      <td>0.0</td>\n",
       "      <td>30.0</td>\n",
       "    </tr>\n",
       "    <tr>\n",
       "      <th>living with parents and siblings</th>\n",
       "      <td>11.047268</td>\n",
       "      <td>0.0</td>\n",
       "      <td>30.0</td>\n",
       "    </tr>\n",
       "    <tr>\n",
       "      <th>married</th>\n",
       "      <td>11.123960</td>\n",
       "      <td>0.0</td>\n",
       "      <td>30.0</td>\n",
       "    </tr>\n",
       "    <tr>\n",
       "      <th>single</th>\n",
       "      <td>11.115149</td>\n",
       "      <td>0.0</td>\n",
       "      <td>30.0</td>\n",
       "    </tr>\n",
       "  </tbody>\n",
       "</table>\n",
       "</div>"
      ],
      "text/plain": [
       "                                 days_since_prior_order           \n",
       "                                                   mean  min   max\n",
       "marital_status                                                    \n",
       "divorced/widowed                              11.027251  0.0  30.0\n",
       "living with parents and siblings              11.047268  0.0  30.0\n",
       "married                                       11.123960  0.0  30.0\n",
       "single                                        11.115149  0.0  30.0"
      ]
     },
     "execution_count": 157,
     "metadata": {},
     "output_type": "execute_result"
    }
   ],
   "source": [
    "# marital status and frequency\n",
    "df.groupby('marital_status').agg({'days_since_prior_order': ['mean', 'min', 'max']})"
   ]
  },
  {
   "cell_type": "code",
   "execution_count": null,
   "id": "1af1c4b2",
   "metadata": {},
   "outputs": [],
   "source": []
  }
 ],
 "metadata": {
  "kernelspec": {
   "display_name": "Python 3 (ipykernel)",
   "language": "python",
   "name": "python3"
  },
  "language_info": {
   "codemirror_mode": {
    "name": "ipython",
    "version": 3
   },
   "file_extension": ".py",
   "mimetype": "text/x-python",
   "name": "python",
   "nbconvert_exporter": "python",
   "pygments_lexer": "ipython3",
   "version": "3.11.3"
  }
 },
 "nbformat": 4,
 "nbformat_minor": 5
}
