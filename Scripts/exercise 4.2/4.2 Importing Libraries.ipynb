{
 "cells": [
  {
   "cell_type": "markdown",
   "id": "c5e3c337",
   "metadata": {},
   "source": [
    "# Importing Libraries"
   ]
  },
  {
   "cell_type": "code",
   "execution_count": 3,
   "id": "a348938c",
   "metadata": {},
   "outputs": [],
   "source": [
    "#importing libraries\n",
    "import pandas as pandas\n",
    "import numpy as np\n",
    "import os"
   ]
  },
  {
   "cell_type": "markdown",
   "id": "5af8afa8",
   "metadata": {},
   "source": [
    "# Python Data Types"
   ]
  },
  {
   "cell_type": "code",
   "execution_count": 4,
   "id": "e3ca7e5a",
   "metadata": {},
   "outputs": [],
   "source": [
    "x = 50\n",
    "y = 25\n",
    "z = 75"
   ]
  },
  {
   "cell_type": "code",
   "execution_count": 5,
   "id": "96898ca3",
   "metadata": {},
   "outputs": [
    {
     "data": {
      "text/plain": [
       "100"
      ]
     },
     "execution_count": 5,
     "metadata": {},
     "output_type": "execute_result"
    }
   ],
   "source": [
    "x + y*2"
   ]
  },
  {
   "cell_type": "code",
   "execution_count": 6,
   "id": "db08da97",
   "metadata": {},
   "outputs": [
    {
     "data": {
      "text/plain": [
       "100"
      ]
     },
     "execution_count": 6,
     "metadata": {},
     "output_type": "execute_result"
    }
   ],
   "source": [
    "y + z"
   ]
  },
  {
   "cell_type": "code",
   "execution_count": 7,
   "id": "d9811520",
   "metadata": {},
   "outputs": [
    {
     "data": {
      "text/plain": [
       "100"
      ]
     },
     "execution_count": 7,
     "metadata": {},
     "output_type": "execute_result"
    }
   ],
   "source": [
    "z*2 - x"
   ]
  },
  {
   "cell_type": "markdown",
   "id": "da53ad06",
   "metadata": {},
   "source": [
    "# Floating Point Variables"
   ]
  },
  {
   "cell_type": "code",
   "execution_count": 10,
   "id": "bac4066f",
   "metadata": {},
   "outputs": [],
   "source": [
    "a = 3.5\n",
    "b = 9.9"
   ]
  },
  {
   "cell_type": "code",
   "execution_count": 11,
   "id": "ebc5a751",
   "metadata": {},
   "outputs": [
    {
     "data": {
      "text/plain": [
       "0.35353535353535354"
      ]
     },
     "execution_count": 11,
     "metadata": {},
     "output_type": "execute_result"
    }
   ],
   "source": [
    "a/b"
   ]
  },
  {
   "cell_type": "code",
   "execution_count": 12,
   "id": "45fbede4",
   "metadata": {},
   "outputs": [],
   "source": [
    "w = 'd'\n",
    "r = 'a'\n",
    "u = 't'"
   ]
  },
  {
   "cell_type": "code",
   "execution_count": 13,
   "id": "1c9287d2",
   "metadata": {},
   "outputs": [
    {
     "data": {
      "text/plain": [
       "'data'"
      ]
     },
     "execution_count": 13,
     "metadata": {},
     "output_type": "execute_result"
    }
   ],
   "source": [
    "w + r + u + r"
   ]
  },
  {
   "cell_type": "code",
   "execution_count": 16,
   "id": "dc81dcdc",
   "metadata": {},
   "outputs": [],
   "source": [
    "v = 'Brazil '\n",
    "j = 'is '\n",
    "p = 'nice '\n",
    "e = 'summer '\n",
    "f = 'in '\n",
    "q = 'The beach '"
   ]
  },
  {
   "cell_type": "code",
   "execution_count": 17,
   "id": "1139284c",
   "metadata": {},
   "outputs": [
    {
     "data": {
      "text/plain": [
       "'Brazil is nice in summer '"
      ]
     },
     "execution_count": 17,
     "metadata": {},
     "output_type": "execute_result"
    }
   ],
   "source": [
    "v + j + p + f + e"
   ]
  },
  {
   "cell_type": "code",
   "execution_count": 18,
   "id": "9f3f4cbf",
   "metadata": {},
   "outputs": [
    {
     "data": {
      "text/plain": [
       "'The beach in Brazil is nice '"
      ]
     },
     "execution_count": 18,
     "metadata": {},
     "output_type": "execute_result"
    }
   ],
   "source": [
    "q + f + v + j + p"
   ]
  },
  {
   "cell_type": "code",
   "execution_count": null,
   "id": "fbafad34",
   "metadata": {},
   "outputs": [],
   "source": []
  },
  {
   "cell_type": "code",
   "execution_count": null,
   "id": "6028458a",
   "metadata": {},
   "outputs": [],
   "source": []
  },
  {
   "cell_type": "code",
   "execution_count": null,
   "id": "07db4d28",
   "metadata": {},
   "outputs": [],
   "source": []
  }
 ],
 "metadata": {
  "kernelspec": {
   "display_name": "Python 3 (ipykernel)",
   "language": "python",
   "name": "python3"
  },
  "language_info": {
   "codemirror_mode": {
    "name": "ipython",
    "version": 3
   },
   "file_extension": ".py",
   "mimetype": "text/x-python",
   "name": "python",
   "nbconvert_exporter": "python",
   "pygments_lexer": "ipython3",
   "version": "3.11.3"
  }
 },
 "nbformat": 4,
 "nbformat_minor": 5
}
